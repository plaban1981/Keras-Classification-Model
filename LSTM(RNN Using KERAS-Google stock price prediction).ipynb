{
 "cells": [
  {
   "cell_type": "code",
   "execution_count": 1,
   "metadata": {},
   "outputs": [
    {
     "name": "stderr",
     "output_type": "stream",
     "text": [
      "C:\\Users\\INTEL\\Anaconda3\\envs\\tfdeeplearning\\lib\\site-packages\\h5py\\__init__.py:36: FutureWarning: Conversion of the second argument of issubdtype from `float` to `np.floating` is deprecated. In future, it will be treated as `np.float64 == np.dtype(float).type`.\n",
      "  from ._conv import register_converters as _register_converters\n",
      "Using TensorFlow backend.\n"
     ]
    }
   ],
   "source": [
    "# Importing the libraries\n",
    "import numpy as np\n",
    "import matplotlib.pyplot as plt\n",
    "import pandas as pd\n",
    "# Importing the Keras libraries and packages\n",
    "from keras.models import Sequential\n",
    "from keras.layers import Dense\n",
    "from keras.layers import LSTM\n",
    "from keras.layers import Dropout"
   ]
  },
  {
   "cell_type": "code",
   "execution_count": 2,
   "metadata": {
    "collapsed": true
   },
   "outputs": [],
   "source": [
    "# Importing the training set\n",
    "df_train = pd.read_csv('Google_Stock_Price_Train.csv')\n",
    "df_test = pd.read_csv('Google_Stock_Price_Test.csv')"
   ]
  },
  {
   "cell_type": "code",
   "execution_count": 3,
   "metadata": {},
   "outputs": [
    {
     "data": {
      "text/html": [
       "<div>\n",
       "<style>\n",
       "    .dataframe thead tr:only-child th {\n",
       "        text-align: right;\n",
       "    }\n",
       "\n",
       "    .dataframe thead th {\n",
       "        text-align: left;\n",
       "    }\n",
       "\n",
       "    .dataframe tbody tr th {\n",
       "        vertical-align: top;\n",
       "    }\n",
       "</style>\n",
       "<table border=\"1\" class=\"dataframe\">\n",
       "  <thead>\n",
       "    <tr style=\"text-align: right;\">\n",
       "      <th></th>\n",
       "      <th>Date</th>\n",
       "      <th>Open</th>\n",
       "      <th>High</th>\n",
       "      <th>Low</th>\n",
       "      <th>Close</th>\n",
       "      <th>Volume</th>\n",
       "    </tr>\n",
       "  </thead>\n",
       "  <tbody>\n",
       "    <tr>\n",
       "      <th>0</th>\n",
       "      <td>1/3/2012</td>\n",
       "      <td>325.25</td>\n",
       "      <td>332.83</td>\n",
       "      <td>324.97</td>\n",
       "      <td>663.59</td>\n",
       "      <td>7,380,500</td>\n",
       "    </tr>\n",
       "    <tr>\n",
       "      <th>1</th>\n",
       "      <td>1/4/2012</td>\n",
       "      <td>331.27</td>\n",
       "      <td>333.87</td>\n",
       "      <td>329.08</td>\n",
       "      <td>666.45</td>\n",
       "      <td>5,749,400</td>\n",
       "    </tr>\n",
       "    <tr>\n",
       "      <th>2</th>\n",
       "      <td>1/5/2012</td>\n",
       "      <td>329.83</td>\n",
       "      <td>330.75</td>\n",
       "      <td>326.89</td>\n",
       "      <td>657.21</td>\n",
       "      <td>6,590,300</td>\n",
       "    </tr>\n",
       "    <tr>\n",
       "      <th>3</th>\n",
       "      <td>1/6/2012</td>\n",
       "      <td>328.34</td>\n",
       "      <td>328.77</td>\n",
       "      <td>323.68</td>\n",
       "      <td>648.24</td>\n",
       "      <td>5,405,900</td>\n",
       "    </tr>\n",
       "    <tr>\n",
       "      <th>4</th>\n",
       "      <td>1/9/2012</td>\n",
       "      <td>322.04</td>\n",
       "      <td>322.29</td>\n",
       "      <td>309.46</td>\n",
       "      <td>620.76</td>\n",
       "      <td>11,688,800</td>\n",
       "    </tr>\n",
       "  </tbody>\n",
       "</table>\n",
       "</div>"
      ],
      "text/plain": [
       "       Date    Open    High     Low   Close      Volume\n",
       "0  1/3/2012  325.25  332.83  324.97  663.59   7,380,500\n",
       "1  1/4/2012  331.27  333.87  329.08  666.45   5,749,400\n",
       "2  1/5/2012  329.83  330.75  326.89  657.21   6,590,300\n",
       "3  1/6/2012  328.34  328.77  323.68  648.24   5,405,900\n",
       "4  1/9/2012  322.04  322.29  309.46  620.76  11,688,800"
      ]
     },
     "execution_count": 3,
     "metadata": {},
     "output_type": "execute_result"
    }
   ],
   "source": [
    "df_train.head()"
   ]
  },
  {
   "cell_type": "code",
   "execution_count": 4,
   "metadata": {},
   "outputs": [
    {
     "data": {
      "text/html": [
       "<div>\n",
       "<style>\n",
       "    .dataframe thead tr:only-child th {\n",
       "        text-align: right;\n",
       "    }\n",
       "\n",
       "    .dataframe thead th {\n",
       "        text-align: left;\n",
       "    }\n",
       "\n",
       "    .dataframe tbody tr th {\n",
       "        vertical-align: top;\n",
       "    }\n",
       "</style>\n",
       "<table border=\"1\" class=\"dataframe\">\n",
       "  <thead>\n",
       "    <tr style=\"text-align: right;\">\n",
       "      <th></th>\n",
       "      <th>Date</th>\n",
       "      <th>Open</th>\n",
       "      <th>High</th>\n",
       "      <th>Low</th>\n",
       "      <th>Close</th>\n",
       "      <th>Volume</th>\n",
       "    </tr>\n",
       "  </thead>\n",
       "  <tbody>\n",
       "    <tr>\n",
       "      <th>0</th>\n",
       "      <td>1/3/2017</td>\n",
       "      <td>778.81</td>\n",
       "      <td>789.63</td>\n",
       "      <td>775.80</td>\n",
       "      <td>786.14</td>\n",
       "      <td>1,657,300</td>\n",
       "    </tr>\n",
       "    <tr>\n",
       "      <th>1</th>\n",
       "      <td>1/4/2017</td>\n",
       "      <td>788.36</td>\n",
       "      <td>791.34</td>\n",
       "      <td>783.16</td>\n",
       "      <td>786.90</td>\n",
       "      <td>1,073,000</td>\n",
       "    </tr>\n",
       "    <tr>\n",
       "      <th>2</th>\n",
       "      <td>1/5/2017</td>\n",
       "      <td>786.08</td>\n",
       "      <td>794.48</td>\n",
       "      <td>785.02</td>\n",
       "      <td>794.02</td>\n",
       "      <td>1,335,200</td>\n",
       "    </tr>\n",
       "    <tr>\n",
       "      <th>3</th>\n",
       "      <td>1/6/2017</td>\n",
       "      <td>795.26</td>\n",
       "      <td>807.90</td>\n",
       "      <td>792.20</td>\n",
       "      <td>806.15</td>\n",
       "      <td>1,640,200</td>\n",
       "    </tr>\n",
       "    <tr>\n",
       "      <th>4</th>\n",
       "      <td>1/9/2017</td>\n",
       "      <td>806.40</td>\n",
       "      <td>809.97</td>\n",
       "      <td>802.83</td>\n",
       "      <td>806.65</td>\n",
       "      <td>1,272,400</td>\n",
       "    </tr>\n",
       "  </tbody>\n",
       "</table>\n",
       "</div>"
      ],
      "text/plain": [
       "       Date    Open    High     Low   Close     Volume\n",
       "0  1/3/2017  778.81  789.63  775.80  786.14  1,657,300\n",
       "1  1/4/2017  788.36  791.34  783.16  786.90  1,073,000\n",
       "2  1/5/2017  786.08  794.48  785.02  794.02  1,335,200\n",
       "3  1/6/2017  795.26  807.90  792.20  806.15  1,640,200\n",
       "4  1/9/2017  806.40  809.97  802.83  806.65  1,272,400"
      ]
     },
     "execution_count": 4,
     "metadata": {},
     "output_type": "execute_result"
    }
   ],
   "source": [
    "df_test.head()"
   ]
  },
  {
   "cell_type": "markdown",
   "metadata": {},
   "source": [
    "#### Feature - High"
   ]
  },
  {
   "cell_type": "code",
   "execution_count": 10,
   "metadata": {},
   "outputs": [],
   "source": [
    "training_set = df_train['High'].values\n",
    "test_set = df_train['High'].values"
   ]
  },
  {
   "cell_type": "code",
   "execution_count": 11,
   "metadata": {},
   "outputs": [
    {
     "name": "stdout",
     "output_type": "stream",
     "text": [
      "(1258,)\n",
      "(1258,)\n"
     ]
    }
   ],
   "source": [
    "print(training_set.shape)\n",
    "print(test_set.shape)"
   ]
  },
  {
   "cell_type": "code",
   "execution_count": 13,
   "metadata": {},
   "outputs": [],
   "source": [
    "# Feature Scaling\n",
    "from sklearn.preprocessing import MinMaxScaler\n",
    "sc = MinMaxScaler(feature_range = (0, 1))\n",
    "training_set_scaled = sc.fit_transform(training_set.reshape(-1,1))\n",
    "test_set_scaled = sc.fit_transform(test_set.reshape(-1,1))"
   ]
  },
  {
   "cell_type": "code",
   "execution_count": 14,
   "metadata": {},
   "outputs": [
    {
     "name": "stdout",
     "output_type": "stream",
     "text": [
      "(1258,)\n",
      "(1258,)\n"
     ]
    }
   ],
   "source": [
    "print(training_set.shape)\n",
    "print(test_set.shape)"
   ]
  },
  {
   "cell_type": "code",
   "execution_count": 16,
   "metadata": {},
   "outputs": [
    {
     "name": "stdout",
     "output_type": "stream",
     "text": [
      "(1138, 120, 1)\n",
      "(1138,)\n"
     ]
    }
   ],
   "source": [
    "# Creating a data structure with 60 timesteps and 1 output\n",
    "X_train = []\n",
    "y_train = []\n",
    "for i in range(120, 1258):\n",
    "    X_train.append(training_set_scaled[i-120:i, 0])\n",
    "    y_train.append(training_set_scaled[i, 0])\n",
    "X_train, y_train = np.array(X_train), np.array(y_train)\n",
    "\n",
    "# Reshaping\n",
    "X_train = np.reshape(X_train, (X_train.shape[0], X_train.shape[1], 1))\n",
    "print(X_train.shape)\n",
    "print(y_train.shape)"
   ]
  },
  {
   "cell_type": "code",
   "execution_count": 17,
   "metadata": {
    "collapsed": true
   },
   "outputs": [],
   "source": [
    "# Initialising the RNN\n",
    "regressor = Sequential()\n",
    "\n",
    "# Adding the first LSTM layer and some Dropout regularisation\n",
    "regressor.add(LSTM(units = 50, return_sequences = True, input_shape = (X_train.shape[1], 1)))\n",
    "regressor.add(Dropout(0.2))\n",
    "\n",
    "# Adding a second LSTM layer and some Dropout regularisation\n",
    "regressor.add(LSTM(units = 50, return_sequences = True))\n",
    "regressor.add(Dropout(0.2))\n",
    "\n",
    "# Adding a third LSTM layer and some Dropout regularisation\n",
    "regressor.add(LSTM(units = 50, return_sequences = True))\n",
    "regressor.add(Dropout(0.2))\n",
    "\n",
    "# Adding a fourth LSTM layer and some Dropout regularisation\n",
    "regressor.add(LSTM(units = 50))\n",
    "regressor.add(Dropout(0.2))\n",
    "\n",
    "# Adding the output layer\n",
    "regressor.add(Dense(units = 1))\n",
    "\n",
    "# Compiling the RNN\n",
    "regressor.compile(optimizer = 'adam', loss = 'mean_squared_error')\n"
   ]
  },
  {
   "cell_type": "code",
   "execution_count": 18,
   "metadata": {},
   "outputs": [
    {
     "name": "stdout",
     "output_type": "stream",
     "text": [
      "_________________________________________________________________\n",
      "Layer (type)                 Output Shape              Param #   \n",
      "=================================================================\n",
      "lstm_1 (LSTM)                (None, 120, 50)           10400     \n",
      "_________________________________________________________________\n",
      "dropout_1 (Dropout)          (None, 120, 50)           0         \n",
      "_________________________________________________________________\n",
      "lstm_2 (LSTM)                (None, 120, 50)           20200     \n",
      "_________________________________________________________________\n",
      "dropout_2 (Dropout)          (None, 120, 50)           0         \n",
      "_________________________________________________________________\n",
      "lstm_3 (LSTM)                (None, 120, 50)           20200     \n",
      "_________________________________________________________________\n",
      "dropout_3 (Dropout)          (None, 120, 50)           0         \n",
      "_________________________________________________________________\n",
      "lstm_4 (LSTM)                (None, 50)                20200     \n",
      "_________________________________________________________________\n",
      "dropout_4 (Dropout)          (None, 50)                0         \n",
      "_________________________________________________________________\n",
      "dense_1 (Dense)              (None, 1)                 51        \n",
      "=================================================================\n",
      "Total params: 71,051\n",
      "Trainable params: 71,051\n",
      "Non-trainable params: 0\n",
      "_________________________________________________________________\n"
     ]
    }
   ],
   "source": [
    "regressor.summary()"
   ]
  },
  {
   "cell_type": "code",
   "execution_count": 19,
   "metadata": {},
   "outputs": [
    {
     "name": "stdout",
     "output_type": "stream",
     "text": [
      "Epoch 1/100\n",
      "1138/1138 [==============================] - 49s 43ms/step - loss: 0.0609\n",
      "Epoch 2/100\n",
      "1138/1138 [==============================] - 24s 22ms/step - loss: 0.0063\n",
      "Epoch 3/100\n",
      "1138/1138 [==============================] - 24s 21ms/step - loss: 0.0052\n",
      "Epoch 4/100\n",
      "1138/1138 [==============================] - 24s 21ms/step - loss: 0.0053\n",
      "Epoch 5/100\n",
      "1138/1138 [==============================] - 24s 21ms/step - loss: 0.0051\n",
      "Epoch 6/100\n",
      "1138/1138 [==============================] - 24s 21ms/step - loss: 0.0053\n",
      "Epoch 7/100\n",
      "1138/1138 [==============================] - 24s 21ms/step - loss: 0.0049\n",
      "Epoch 8/100\n",
      "1138/1138 [==============================] - 24s 21ms/step - loss: 0.0048\n",
      "Epoch 9/100\n",
      "1138/1138 [==============================] - 24s 21ms/step - loss: 0.0046\n",
      "Epoch 10/100\n",
      "1138/1138 [==============================] - 24s 21ms/step - loss: 0.0044\n",
      "Epoch 11/100\n",
      "1138/1138 [==============================] - 24s 21ms/step - loss: 0.0041\n",
      "Epoch 12/100\n",
      "1138/1138 [==============================] - 24s 21ms/step - loss: 0.0052\n",
      "Epoch 13/100\n",
      "1138/1138 [==============================] - 24s 21ms/step - loss: 0.0044\n",
      "Epoch 14/100\n",
      "1138/1138 [==============================] - 24s 21ms/step - loss: 0.0040\n",
      "Epoch 15/100\n",
      "1138/1138 [==============================] - 24s 21ms/step - loss: 0.0039\n",
      "Epoch 16/100\n",
      "1138/1138 [==============================] - 24s 21ms/step - loss: 0.0047\n",
      "Epoch 17/100\n",
      "1138/1138 [==============================] - 24s 21ms/step - loss: 0.0038\n",
      "Epoch 18/100\n",
      "1138/1138 [==============================] - 24s 21ms/step - loss: 0.0041\n",
      "Epoch 19/100\n",
      "1138/1138 [==============================] - 24s 21ms/step - loss: 0.0041\n",
      "Epoch 20/100\n",
      "1138/1138 [==============================] - 24s 21ms/step - loss: 0.0040\n",
      "Epoch 21/100\n",
      "1138/1138 [==============================] - 24s 21ms/step - loss: 0.0040\n",
      "Epoch 22/100\n",
      "1138/1138 [==============================] - 24s 21ms/step - loss: 0.0034\n",
      "Epoch 23/100\n",
      "1138/1138 [==============================] - 24s 21ms/step - loss: 0.0034\n",
      "Epoch 24/100\n",
      "1138/1138 [==============================] - 24s 21ms/step - loss: 0.0038\n",
      "Epoch 25/100\n",
      "1138/1138 [==============================] - 23s 21ms/step - loss: 0.0041\n",
      "Epoch 26/100\n",
      "1138/1138 [==============================] - 24s 21ms/step - loss: 0.0030\n",
      "Epoch 27/100\n",
      "1138/1138 [==============================] - 24s 21ms/step - loss: 0.0034\n",
      "Epoch 28/100\n",
      "1138/1138 [==============================] - 24s 21ms/step - loss: 0.0031\n",
      "Epoch 29/100\n",
      "1138/1138 [==============================] - 24s 21ms/step - loss: 0.0033\n",
      "Epoch 30/100\n",
      "1138/1138 [==============================] - 24s 21ms/step - loss: 0.0032\n",
      "Epoch 31/100\n",
      "1138/1138 [==============================] - 24s 21ms/step - loss: 0.0031\n",
      "Epoch 32/100\n",
      "1138/1138 [==============================] - 24s 21ms/step - loss: 0.0031\n",
      "Epoch 33/100\n",
      "1138/1138 [==============================] - 24s 21ms/step - loss: 0.0030\n",
      "Epoch 34/100\n",
      "1138/1138 [==============================] - 24s 21ms/step - loss: 0.0035\n",
      "Epoch 35/100\n",
      "1138/1138 [==============================] - 24s 21ms/step - loss: 0.0031\n",
      "Epoch 36/100\n",
      "1138/1138 [==============================] - 24s 21ms/step - loss: 0.0031\n",
      "Epoch 37/100\n",
      "1138/1138 [==============================] - 25s 22ms/step - loss: 0.0029\n",
      "Epoch 38/100\n",
      "1138/1138 [==============================] - 25s 22ms/step - loss: 0.0027\n",
      "Epoch 39/100\n",
      "1138/1138 [==============================] - 25s 22ms/step - loss: 0.0032\n",
      "Epoch 40/100\n",
      "1138/1138 [==============================] - 25s 22ms/step - loss: 0.0026\n",
      "Epoch 41/100\n",
      "1138/1138 [==============================] - 25s 22ms/step - loss: 0.0028\n",
      "Epoch 42/100\n",
      "1138/1138 [==============================] - 24s 21ms/step - loss: 0.0025\n",
      "Epoch 43/100\n",
      "1138/1138 [==============================] - 24s 21ms/step - loss: 0.0028\n",
      "Epoch 44/100\n",
      "1138/1138 [==============================] - 24s 21ms/step - loss: 0.0028\n",
      "Epoch 45/100\n",
      "1138/1138 [==============================] - 23s 21ms/step - loss: 0.0026\n",
      "Epoch 46/100\n",
      "1138/1138 [==============================] - 24s 21ms/step - loss: 0.0025\n",
      "Epoch 47/100\n",
      "1138/1138 [==============================] - 24s 21ms/step - loss: 0.0025\n",
      "Epoch 48/100\n",
      "1138/1138 [==============================] - 24s 21ms/step - loss: 0.0026\n",
      "Epoch 49/100\n",
      "1138/1138 [==============================] - 24s 21ms/step - loss: 0.0027\n",
      "Epoch 50/100\n",
      "1138/1138 [==============================] - 24s 21ms/step - loss: 0.0029\n",
      "Epoch 51/100\n",
      "1138/1138 [==============================] - 24s 21ms/step - loss: 0.0024\n",
      "Epoch 52/100\n",
      "1138/1138 [==============================] - 24s 21ms/step - loss: 0.0023\n",
      "Epoch 53/100\n",
      "1138/1138 [==============================] - 24s 21ms/step - loss: 0.0023\n",
      "Epoch 54/100\n",
      "1138/1138 [==============================] - 24s 21ms/step - loss: 0.0024\n",
      "Epoch 55/100\n",
      "1138/1138 [==============================] - 23s 21ms/step - loss: 0.0023\n",
      "Epoch 56/100\n",
      "1138/1138 [==============================] - 24s 21ms/step - loss: 0.0024\n",
      "Epoch 57/100\n",
      "1138/1138 [==============================] - 24s 21ms/step - loss: 0.0024\n",
      "Epoch 58/100\n",
      "1138/1138 [==============================] - 24s 21ms/step - loss: 0.0023\n",
      "Epoch 59/100\n",
      "1138/1138 [==============================] - 24s 21ms/step - loss: 0.0021\n",
      "Epoch 60/100\n",
      "1138/1138 [==============================] - 23s 20ms/step - loss: 0.0020\n",
      "Epoch 61/100\n",
      "1138/1138 [==============================] - 23s 20ms/step - loss: 0.0023\n",
      "Epoch 62/100\n",
      "1138/1138 [==============================] - 23s 21ms/step - loss: 0.0023\n",
      "Epoch 63/100\n",
      "1138/1138 [==============================] - 24s 21ms/step - loss: 0.0021\n",
      "Epoch 64/100\n",
      "1138/1138 [==============================] - 23s 20ms/step - loss: 0.0020\n",
      "Epoch 65/100\n",
      "1138/1138 [==============================] - 23s 20ms/step - loss: 0.0020\n",
      "Epoch 66/100\n",
      "1138/1138 [==============================] - 24s 21ms/step - loss: 0.0020\n",
      "Epoch 67/100\n",
      "1138/1138 [==============================] - 24s 21ms/step - loss: 0.0018\n",
      "Epoch 68/100\n",
      "1138/1138 [==============================] - 23s 21ms/step - loss: 0.0021\n",
      "Epoch 69/100\n",
      "1138/1138 [==============================] - 23s 21ms/step - loss: 0.0019\n",
      "Epoch 70/100\n",
      "1138/1138 [==============================] - 24s 21ms/step - loss: 0.0018\n",
      "Epoch 71/100\n",
      "1138/1138 [==============================] - 24s 21ms/step - loss: 0.0020\n",
      "Epoch 72/100\n",
      "1138/1138 [==============================] - 24s 21ms/step - loss: 0.0019\n",
      "Epoch 73/100\n",
      "1138/1138 [==============================] - 24s 21ms/step - loss: 0.0018\n",
      "Epoch 74/100\n",
      "1138/1138 [==============================] - 23s 21ms/step - loss: 0.0020\n",
      "Epoch 75/100\n",
      "1138/1138 [==============================] - 24s 21ms/step - loss: 0.0020\n",
      "Epoch 76/100\n",
      "1138/1138 [==============================] - 24s 21ms/step - loss: 0.0017\n",
      "Epoch 77/100\n",
      "1138/1138 [==============================] - 23s 20ms/step - loss: 0.0019\n",
      "Epoch 78/100\n",
      "1138/1138 [==============================] - 24s 21ms/step - loss: 0.0020\n",
      "Epoch 79/100\n",
      "1138/1138 [==============================] - 24s 21ms/step - loss: 0.0020\n",
      "Epoch 80/100\n",
      "1138/1138 [==============================] - 24s 21ms/step - loss: 0.0017\n",
      "Epoch 81/100\n",
      "1138/1138 [==============================] - 24s 21ms/step - loss: 0.0017\n",
      "Epoch 82/100\n",
      "1138/1138 [==============================] - 24s 21ms/step - loss: 0.0015\n",
      "Epoch 83/100\n",
      "1138/1138 [==============================] - 24s 21ms/step - loss: 0.0016\n",
      "Epoch 84/100\n",
      "1138/1138 [==============================] - 24s 21ms/step - loss: 0.0016\n",
      "Epoch 85/100\n",
      "1138/1138 [==============================] - 24s 21ms/step - loss: 0.0016\n",
      "Epoch 86/100\n",
      "1138/1138 [==============================] - 24s 21ms/step - loss: 0.0017\n",
      "Epoch 87/100\n",
      "1138/1138 [==============================] - 23s 20ms/step - loss: 0.0017\n",
      "Epoch 88/100\n",
      "1138/1138 [==============================] - 24s 21ms/step - loss: 0.0016\n",
      "Epoch 89/100\n",
      "1138/1138 [==============================] - 23s 21ms/step - loss: 0.0018\n",
      "Epoch 90/100\n",
      "1138/1138 [==============================] - 24s 21ms/step - loss: 0.0015\n",
      "Epoch 91/100\n",
      "1138/1138 [==============================] - 24s 21ms/step - loss: 0.0015\n",
      "Epoch 92/100\n",
      "1138/1138 [==============================] - 24s 21ms/step - loss: 0.0016\n",
      "Epoch 93/100\n",
      "1138/1138 [==============================] - 24s 21ms/step - loss: 0.0018\n",
      "Epoch 94/100\n",
      "1138/1138 [==============================] - 24s 21ms/step - loss: 0.0015\n",
      "Epoch 95/100\n"
     ]
    },
    {
     "name": "stdout",
     "output_type": "stream",
     "text": [
      "1138/1138 [==============================] - 24s 21ms/step - loss: 0.0013\n",
      "Epoch 96/100\n",
      "1138/1138 [==============================] - 24s 21ms/step - loss: 0.0016\n",
      "Epoch 97/100\n",
      "1138/1138 [==============================] - 24s 21ms/step - loss: 0.0014\n",
      "Epoch 98/100\n",
      "1138/1138 [==============================] - 24s 21ms/step - loss: 0.0013\n",
      "Epoch 99/100\n",
      "1138/1138 [==============================] - 24s 21ms/step - loss: 0.0015\n",
      "Epoch 100/100\n",
      "1138/1138 [==============================] - 24s 21ms/step - loss: 0.0016\n"
     ]
    },
    {
     "data": {
      "text/plain": [
       "<keras.callbacks.History at 0x1dfa7eddc50>"
      ]
     },
     "execution_count": 19,
     "metadata": {},
     "output_type": "execute_result"
    }
   ],
   "source": [
    "# Fitting the RNN to the Training set\n",
    "regressor.fit(X_train, y_train, epochs = 100, batch_size = 32)\n"
   ]
  },
  {
   "cell_type": "code",
   "execution_count": 21,
   "metadata": {},
   "outputs": [
    {
     "data": {
      "text/plain": [
       "(140, 1)"
      ]
     },
     "execution_count": 21,
     "metadata": {},
     "output_type": "execute_result"
    }
   ],
   "source": [
    "# Getting the predicted stock price of 2017\n",
    "dataset_total = pd.concat((df_train['High'], df_test['High']), axis = 0)\n",
    "inputs = dataset_total[len(dataset_total) - len(df_test) - 120:].values\n",
    "inputs = inputs.reshape(-1,1)\n",
    "inputs = sc.transform(inputs)\n",
    "inputs.shape"
   ]
  },
  {
   "cell_type": "code",
   "execution_count": 43,
   "metadata": {},
   "outputs": [
    {
     "data": {
      "text/plain": [
       "(20, 6)"
      ]
     },
     "execution_count": 43,
     "metadata": {},
     "output_type": "execute_result"
    }
   ],
   "source": [
    "df_test.shape"
   ]
  },
  {
   "cell_type": "code",
   "execution_count": 39,
   "metadata": {},
   "outputs": [
    {
     "data": {
      "text/plain": [
       "(1278,)"
      ]
     },
     "execution_count": 39,
     "metadata": {},
     "output_type": "execute_result"
    }
   ],
   "source": [
    "dataset_total.shape"
   ]
  },
  {
   "cell_type": "code",
   "execution_count": 45,
   "metadata": {},
   "outputs": [
    {
     "data": {
      "text/plain": [
       "1138"
      ]
     },
     "execution_count": 45,
     "metadata": {},
     "output_type": "execute_result"
    }
   ],
   "source": [
    "len(dataset_total) - len(df_test) -120"
   ]
  },
  {
   "cell_type": "code",
   "execution_count": 46,
   "metadata": {},
   "outputs": [
    {
     "data": {
      "text/plain": [
       "140"
      ]
     },
     "execution_count": 46,
     "metadata": {},
     "output_type": "execute_result"
    }
   ],
   "source": [
    "1278 - 1138"
   ]
  },
  {
   "cell_type": "code",
   "execution_count": 26,
   "metadata": {},
   "outputs": [
    {
     "data": {
      "text/plain": [
       "(20, 120, 1)"
      ]
     },
     "execution_count": 26,
     "metadata": {},
     "output_type": "execute_result"
    }
   ],
   "source": [
    "X_test = []\n",
    "for i in range(120, 140):\n",
    "    X_test.append(inputs[i-120:i, 0])\n",
    "X_test = np.array(X_test)\n",
    "X_test = np.reshape(X_test, (X_test.shape[0], X_test.shape[1], 1))\n",
    "X_test.shape"
   ]
  },
  {
   "cell_type": "code",
   "execution_count": 27,
   "metadata": {},
   "outputs": [],
   "source": [
    "predicted_stock_price = regressor.predict(X_test)"
   ]
  },
  {
   "cell_type": "code",
   "execution_count": 28,
   "metadata": {
    "collapsed": true
   },
   "outputs": [],
   "source": [
    "predicted_stock_price = sc.inverse_transform(predicted_stock_price)"
   ]
  },
  {
   "cell_type": "code",
   "execution_count": 29,
   "metadata": {},
   "outputs": [
    {
     "data": {
      "text/plain": [
       "array([[781.9689 ],\n",
       "       [780.4867 ],\n",
       "       [781.49176],\n",
       "       [784.1347 ],\n",
       "       [789.5605 ],\n",
       "       [795.2635 ],\n",
       "       [798.5066 ],\n",
       "       [798.83374],\n",
       "       [797.5025 ],\n",
       "       [796.995  ],\n",
       "       [796.6517 ],\n",
       "       [796.2169 ],\n",
       "       [796.6834 ],\n",
       "       [797.1355 ],\n",
       "       [800.5253 ],\n",
       "       [806.01843],\n",
       "       [812.8286 ],\n",
       "       [818.3782 ],\n",
       "       [822.0101 ],\n",
       "       [817.4515 ]], dtype=float32)"
      ]
     },
     "execution_count": 29,
     "metadata": {},
     "output_type": "execute_result"
    }
   ],
   "source": [
    "predicted_stock_price"
   ]
  },
  {
   "cell_type": "code",
   "execution_count": 35,
   "metadata": {
    "collapsed": true
   },
   "outputs": [],
   "source": [
    "real_stock_price = df_test['High'].values"
   ]
  },
  {
   "cell_type": "code",
   "execution_count": 36,
   "metadata": {},
   "outputs": [
    {
     "data": {
      "text/plain": [
       "array([789.63, 791.34, 794.48, 807.9 , 809.97, 809.13, 808.15, 807.39,\n",
       "       811.22, 807.14, 806.21, 809.48, 806.91, 820.87, 825.9 , 835.77,\n",
       "       838.  , 841.95, 815.84, 801.25])"
      ]
     },
     "execution_count": 36,
     "metadata": {},
     "output_type": "execute_result"
    }
   ],
   "source": [
    "real_stock_price"
   ]
  },
  {
   "cell_type": "code",
   "execution_count": 37,
   "metadata": {},
   "outputs": [
    {
     "data": {
      "image/png": "[encoded data removed]",
      "text/plain": [
       "<matplotlib.figure.Figure at 0x1dfae704780>"
      ]
     },
     "metadata": {},
     "output_type": "display_data"
    }
   ],
   "source": [
    "# Visualising the results\n",
    "plt.plot(real_stock_price, color = 'red', label = 'Real Google Stock Price')\n",
    "plt.plot(predicted_stock_price, color = 'blue', label = 'Predicted Google Stock Price')\n",
    "plt.title('Google Stock Price Prediction')\n",
    "plt.xlabel('Time')\n",
    "plt.ylabel('Google Stock Price')\n",
    "plt.legend()\n",
    "plt.show()"
   ]
  },
  {
   "cell_type": "markdown",
   "metadata": {},
   "source": [
    "# Saving the model"
   ]
  },
  {
   "cell_type": "code",
   "execution_count": 38,
   "metadata": {
    "collapsed": true
   },
   "outputs": [],
   "source": [
    "from keras.models import load_model\n",
    "\n",
    "regressor.save('LSTM_model.h5')\n",
    "\n",
    "model = load_model('LSTM_model.h5')"
   ]
  },
  {
   "cell_type": "code",
   "execution_count": null,
   "metadata": {
    "collapsed": true
   },
   "outputs": [],
   "source": []
  }
 ],
 "metadata": {
  "kernelspec": {
   "display_name": "Python 3",
   "language": "python",
   "name": "python3"
  },
  "language_info": {
   "codemirror_mode": {
    "name": "ipython",
    "version": 3
   },
   "file_extension": ".py",
   "mimetype": "text/x-python",
   "name": "python",
   "nbconvert_exporter": "python",
   "pygments_lexer": "ipython3",
   "version": "3.5.4"
  }
 },
 "nbformat": 4,
 "nbformat_minor": 2
}
