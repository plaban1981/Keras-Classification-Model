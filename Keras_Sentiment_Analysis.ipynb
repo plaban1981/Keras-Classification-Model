{
 "cells": [
  {
   "cell_type": "code",
   "execution_count": 1,
   "metadata": {
    "collapsed": true
   },
   "outputs": [],
   "source": [
    "import pandas as pd\n",
    "\n",
    "filepath_dict = {'yelp':   'sentiment labelled sentences/yelp_labelled.txt',\n",
    "                 'amazon': 'sentiment labelled sentences/amazon_cells_labelled.txt',\n",
    "                 'imdb':   'sentiment labelled sentences/imdb_labelled.txt'}"
   ]
  },
  {
   "cell_type": "code",
   "execution_count": 2,
   "metadata": {},
   "outputs": [
    {
     "data": {
      "text/plain": [
       "{'amazon': 'sentiment labelled sentences/amazon_cells_labelled.txt',\n",
       " 'imdb': 'sentiment labelled sentences/imdb_labelled.txt',\n",
       " 'yelp': 'sentiment labelled sentences/yelp_labelled.txt'}"
      ]
     },
     "execution_count": 2,
     "metadata": {},
     "output_type": "execute_result"
    }
   ],
   "source": [
    "filepath_dict"
   ]
  },
  {
   "cell_type": "code",
   "execution_count": 3,
   "metadata": {
    "collapsed": true
   },
   "outputs": [],
   "source": [
    "df_list = []\n",
    "for source, filepath in filepath_dict.items():\n",
    "    df = pd.read_csv(filepath, names=['sentence', 'label'], sep='\\t')\n",
    "    df['source'] = source  # Add another column filled with the source name\n",
    "    df_list.append(df)"
   ]
  },
  {
   "cell_type": "code",
   "execution_count": 20,
   "metadata": {},
   "outputs": [],
   "source": [
    "import numpy as np\n",
    "df = pd.concat(df_list)\n"
   ]
  },
  {
   "cell_type": "code",
   "execution_count": 43,
   "metadata": {},
   "outputs": [],
   "source": [
    "var = 'source'\n",
    "col_list = [var]+[cols for cols in df.columns if cols != var]\n"
   ]
  },
  {
   "cell_type": "code",
   "execution_count": 44,
   "metadata": {},
   "outputs": [
    {
     "data": {
      "text/plain": [
       "['source', 'sentence', 'label']"
      ]
     },
     "execution_count": 44,
     "metadata": {},
     "output_type": "execute_result"
    }
   ],
   "source": [
    "col_list"
   ]
  },
  {
   "cell_type": "code",
   "execution_count": 45,
   "metadata": {
    "collapsed": true
   },
   "outputs": [],
   "source": [
    "df = df[col_list]"
   ]
  },
  {
   "cell_type": "code",
   "execution_count": 46,
   "metadata": {},
   "outputs": [
    {
     "data": {
      "text/html": [
       "<div>\n",
       "<style>\n",
       "    .dataframe thead tr:only-child th {\n",
       "        text-align: right;\n",
       "    }\n",
       "\n",
       "    .dataframe thead th {\n",
       "        text-align: left;\n",
       "    }\n",
       "\n",
       "    .dataframe tbody tr th {\n",
       "        vertical-align: top;\n",
       "    }\n",
       "</style>\n",
       "<table border=\"1\" class=\"dataframe\">\n",
       "  <thead>\n",
       "    <tr style=\"text-align: right;\">\n",
       "      <th></th>\n",
       "      <th>source</th>\n",
       "      <th>sentence</th>\n",
       "      <th>label</th>\n",
       "    </tr>\n",
       "  </thead>\n",
       "  <tbody>\n",
       "    <tr>\n",
       "      <th>0</th>\n",
       "      <td>amazon</td>\n",
       "      <td>So there is no way for me to plug it in here i...</td>\n",
       "      <td>0</td>\n",
       "    </tr>\n",
       "    <tr>\n",
       "      <th>1</th>\n",
       "      <td>amazon</td>\n",
       "      <td>Good case, Excellent value.</td>\n",
       "      <td>1</td>\n",
       "    </tr>\n",
       "    <tr>\n",
       "      <th>2</th>\n",
       "      <td>amazon</td>\n",
       "      <td>Great for the jawbone.</td>\n",
       "      <td>1</td>\n",
       "    </tr>\n",
       "    <tr>\n",
       "      <th>3</th>\n",
       "      <td>amazon</td>\n",
       "      <td>Tied to charger for conversations lasting more...</td>\n",
       "      <td>0</td>\n",
       "    </tr>\n",
       "    <tr>\n",
       "      <th>4</th>\n",
       "      <td>amazon</td>\n",
       "      <td>The mic is great.</td>\n",
       "      <td>1</td>\n",
       "    </tr>\n",
       "  </tbody>\n",
       "</table>\n",
       "</div>"
      ],
      "text/plain": [
       "   source                                           sentence  label\n",
       "0  amazon  So there is no way for me to plug it in here i...      0\n",
       "1  amazon                        Good case, Excellent value.      1\n",
       "2  amazon                             Great for the jawbone.      1\n",
       "3  amazon  Tied to charger for conversations lasting more...      0\n",
       "4  amazon                                  The mic is great.      1"
      ]
     },
     "execution_count": 46,
     "metadata": {},
     "output_type": "execute_result"
    }
   ],
   "source": [
    "df.head()"
   ]
  },
  {
   "cell_type": "markdown",
   "metadata": {},
   "source": [
    "#### we  can use the CountVectorizer provided by the scikit-learn library to vectorize sentences."
   ]
  },
  {
   "cell_type": "code",
   "execution_count": 130,
   "metadata": {},
   "outputs": [
    {
     "data": {
      "text/plain": [
       "(1000, 2167)"
      ]
     },
     "execution_count": 130,
     "metadata": {},
     "output_type": "execute_result"
    }
   ],
   "source": [
    "from sklearn.feature_extraction.text import CountVectorizer\n",
    "from sklearn.model_selection import train_test_split\n",
    "vectorizer = CountVectorizer(min_df=0, lowercase=False)\n",
    "df_amazon = df[df.source == 'amazon']\n",
    "\n",
    "sentence_amazon = df_amazon.sentence.values\n",
    "label_amazon = df_amazon.label.values\n",
    "\n",
    "sentence_vector = vectorizer.fit_transform(sentence_amazon)\n",
    "sentence_vector.shape"
   ]
  },
  {
   "cell_type": "code",
   "execution_count": 131,
   "metadata": {},
   "outputs": [],
   "source": [
    "X_train,X_test,y_train,y_test = train_test_split(sentence_vector,label_amazon,test_size=0.2,random_state=1)"
   ]
  },
  {
   "cell_type": "code",
   "execution_count": 132,
   "metadata": {},
   "outputs": [
    {
     "data": {
      "text/plain": [
       "<5x2167 sparse matrix of type '<class 'numpy.int64'>'\n",
       "\twith 38 stored elements in Compressed Sparse Row format>"
      ]
     },
     "execution_count": 132,
     "metadata": {},
     "output_type": "execute_result"
    }
   ],
   "source": [
    "X_train[:5]"
   ]
  },
  {
   "cell_type": "code",
   "execution_count": 133,
   "metadata": {},
   "outputs": [
    {
     "name": "stdout",
     "output_type": "stream",
     "text": [
      "(800, 2167) (200, 2167)\n",
      "(800,) (200,)\n"
     ]
    }
   ],
   "source": [
    "print(X_train.shape,X_test.shape)\n",
    "print(y_train.shape,y_test.shape)"
   ]
  },
  {
   "cell_type": "code",
   "execution_count": 134,
   "metadata": {},
   "outputs": [
    {
     "name": "stdout",
     "output_type": "stream",
     "text": [
      "Accuracy using Countvectorizer in scikitlearn  :  0.775\n"
     ]
    }
   ],
   "source": [
    "from sklearn.linear_model import LogisticRegression\n",
    "classifier  = LogisticRegression()\n",
    "classifier.fit(X_train,y_train)\n",
    "print('Accuracy using Countvectorizer in scikitlearn  : ',classifier.score(X_test,y_test))"
   ]
  },
  {
   "cell_type": "markdown",
   "metadata": {},
   "source": [
    "# Using NLTK"
   ]
  },
  {
   "cell_type": "code",
   "execution_count": 136,
   "metadata": {},
   "outputs": [],
   "source": [
    "import nltk\n",
    "#nltk.download('stopwords')\n",
    "from sklearn.feature_extraction.text import CountVectorizer\n",
    "from nltk.stem import WordNetLemmatizer"
   ]
  },
  {
   "cell_type": "markdown",
   "metadata": {},
   "source": [
    "#### CountVectorizer can lowercase letters, disregard punctuation and stopwords, but it can't LEMMATIZE or STEM\n",
    "\n",
    "\n",
    "#### Initialize a CountVectorizer object: count_vectorizer\n",
    "count_vec = CountVectorizer(stop_words=\"english\", analyzer='word', \n",
    "                            ngram_range=(1, 1), max_df=1.0, min_df=1, max_features=None)\n",
    "\n",
    "#### Min_df¶\n",
    "**Min_df ignores terms that have a document frequency (presence in % of documents) strictly lower than the given threshold. For example, Min_df=0.66 requires that a term appear in 66% of the docuemnts for it to be considered part of the vocabulary.\n",
    "\n",
    "Sometimes min_df is used to limit the vocabulary size, so it learns only those terms that appear in at least 10%, 20%, etc. of the documents.\n",
    "\n",
    "\n",
    "#### Max_df\n",
    "When building the vocabulary, it ignores terms that have a document frequency strictly higher than the given threshold. This could be used to exclude terms that are too frequent and are unlikely to help predict the label. For example, by analyzing reviews on the movie Lion King, the term 'Lion' might appear in 90% of the reviews (documents), in which case, we could consider establishing Max_df=0.89"
   ]
  },
  {
   "cell_type": "code",
   "execution_count": 152,
   "metadata": {},
   "outputs": [
    {
     "data": {
      "text/plain": [
       "(1000, 1847)"
      ]
     },
     "execution_count": 152,
     "metadata": {},
     "output_type": "execute_result"
    }
   ],
   "source": [
    "vectors = CountVectorizer()\n",
    "wordnet = WordNetLemmatizer()\n",
    "sentence_filter = [wordnet.lemmatize(word) for word in sentence_amazon]\n",
    "sentence_vector1 =  vectors.fit_transform(sentence_filter)\n",
    "sentence_vector1.shape"
   ]
  },
  {
   "cell_type": "code",
   "execution_count": 153,
   "metadata": {},
   "outputs": [
    {
     "data": {
      "text/plain": [
       "['So there is no way for me to plug it in here in the US unless I go by a converter.',\n",
       " 'Good case, Excellent value.',\n",
       " 'Great for the jawbone.',\n",
       " 'Tied to charger for conversations lasting more than 45 minutes.MAJOR PROBLEMS!!',\n",
       " 'The mic is great.']"
      ]
     },
     "execution_count": 153,
     "metadata": {},
     "output_type": "execute_result"
    }
   ],
   "source": [
    "sentence_filter[:5]"
   ]
  },
  {
   "cell_type": "code",
   "execution_count": 154,
   "metadata": {
    "collapsed": true
   },
   "outputs": [],
   "source": [
    "X_train,X_test,y_train,y_test = train_test_split(sentence_vector1,label_amazon,test_size=0.2,random_state=1)\n"
   ]
  },
  {
   "cell_type": "code",
   "execution_count": 155,
   "metadata": {},
   "outputs": [
    {
     "name": "stdout",
     "output_type": "stream",
     "text": [
      "(800, 1847) (200, 1847)\n",
      "(800,) (200,)\n"
     ]
    }
   ],
   "source": [
    "print(X_train.shape,X_test.shape)\n",
    "print(y_train.shape,y_test.shape)"
   ]
  },
  {
   "cell_type": "code",
   "execution_count": 156,
   "metadata": {},
   "outputs": [
    {
     "name": "stdout",
     "output_type": "stream",
     "text": [
      "Accuracy using NLTK:  0.805\n"
     ]
    }
   ],
   "source": [
    "from sklearn.linear_model import LogisticRegression\n",
    "classifier  = LogisticRegression()\n",
    "classifier.fit(X_train,y_train)\n",
    "print('Accuracy using NLTK: ',classifier.score(X_test,y_test))"
   ]
  },
  {
   "cell_type": "markdown",
   "metadata": {},
   "source": [
    "# Using KERAS"
   ]
  },
  {
   "cell_type": "code",
   "execution_count": 158,
   "metadata": {},
   "outputs": [],
   "source": [
    "import keras\n",
    "from keras import Sequential\n",
    "from keras.layers import Dense\n",
    "input_dim = X_train.shape[1]  # Number of features\n",
    "model = Sequential()\n",
    "# Adding the input layer and the first hidden layer\n",
    "model.add(Dense(activation=\"relu\", input_dim=input_dim, units=6, kernel_initializer=\"uniform\"))\n",
    "\n",
    "# Adding the second hidden layer\n",
    "model.add(Dense(activation=\"relu\", units=6, kernel_initializer=\"uniform\"))\n",
    "\n",
    "# Adding the output layer\n",
    "model.add(Dense(activation=\"sigmoid\", units=1, kernel_initializer=\"uniform\"))\n",
    "\n",
    "\n",
    "# Compiling the ANN\n",
    "model.compile(optimizer = 'adam', loss = 'binary_crossentropy', metrics = ['accuracy'])\n"
   ]
  },
  {
   "cell_type": "code",
   "execution_count": 160,
   "metadata": {},
   "outputs": [
    {
     "name": "stdout",
     "output_type": "stream",
     "text": [
      "_________________________________________________________________\n",
      "Layer (type)                 Output Shape              Param #   \n",
      "=================================================================\n",
      "dense_1 (Dense)              (None, 6)                 11088     \n",
      "_________________________________________________________________\n",
      "dense_2 (Dense)              (None, 6)                 42        \n",
      "_________________________________________________________________\n",
      "dense_3 (Dense)              (None, 1)                 7         \n",
      "=================================================================\n",
      "Total params: 11,137\n",
      "Trainable params: 11,137\n",
      "Non-trainable params: 0\n",
      "_________________________________________________________________\n"
     ]
    }
   ],
   "source": [
    "model.summary()"
   ]
  },
  {
   "cell_type": "code",
   "execution_count": 168,
   "metadata": {},
   "outputs": [
    {
     "name": "stderr",
     "output_type": "stream",
     "text": [
      "C:\\ProgramData\\Anaconda3\\envs\\tfdeeplearning\\lib\\site-packages\\ipykernel_launcher.py:2: UserWarning: The `nb_epoch` argument in `fit` has been renamed `epochs`.\n",
      "  \n"
     ]
    },
    {
     "name": "stdout",
     "output_type": "stream",
     "text": [
      "Epoch 1/100\n",
      "800/800 [==============================] - 1s 2ms/step - loss: 0.6931 - acc: 0.5113\n",
      "Epoch 2/100\n",
      "800/800 [==============================] - 0s 323us/step - loss: 0.6826 - acc: 0.5813\n",
      "Epoch 3/100\n",
      "800/800 [==============================] - 0s 343us/step - loss: 0.6025 - acc: 0.7687\n",
      "Epoch 4/100\n",
      "800/800 [==============================] - 0s 499us/step - loss: 0.4535 - acc: 0.9112 0s - loss: 0.4588 - acc: 0.909\n",
      "Epoch 5/100\n",
      "800/800 [==============================] - 0s 396us/step - loss: 0.3130 - acc: 0.9625\n",
      "Epoch 6/100\n",
      "800/800 [==============================] - 0s 411us/step - loss: 0.2110 - acc: 0.9825\n",
      "Epoch 7/100\n",
      "800/800 [==============================] - 0s 456us/step - loss: 0.1441 - acc: 0.9887\n",
      "Epoch 8/100\n",
      "800/800 [==============================] - 0s 619us/step - loss: 0.1025 - acc: 0.9887\n",
      "Epoch 9/100\n",
      "800/800 [==============================] - 0s 514us/step - loss: 0.0759 - acc: 0.9937\n",
      "Epoch 10/100\n",
      "800/800 [==============================] - 0s 430us/step - loss: 0.0545 - acc: 0.9950\n",
      "Epoch 11/100\n",
      "800/800 [==============================] - 0s 393us/step - loss: 0.0406 - acc: 0.9987\n",
      "Epoch 12/100\n",
      "800/800 [==============================] - 0s 395us/step - loss: 0.0316 - acc: 1.0000\n",
      "Epoch 13/100\n",
      "800/800 [==============================] - 0s 370us/step - loss: 0.0248 - acc: 1.0000\n",
      "Epoch 14/100\n",
      "800/800 [==============================] - 0s 625us/step - loss: 0.0200 - acc: 1.0000\n",
      "Epoch 15/100\n",
      "800/800 [==============================] - 1s 685us/step - loss: 0.0163 - acc: 1.0000\n",
      "Epoch 16/100\n",
      "800/800 [==============================] - 0s 485us/step - loss: 0.0134 - acc: 1.0000\n",
      "Epoch 17/100\n",
      "800/800 [==============================] - 0s 355us/step - loss: 0.0113 - acc: 1.0000\n",
      "Epoch 18/100\n",
      "800/800 [==============================] - 0s 350us/step - loss: 0.0096 - acc: 1.0000\n",
      "Epoch 19/100\n",
      "800/800 [==============================] - 0s 386us/step - loss: 0.0082 - acc: 1.0000\n",
      "Epoch 20/100\n",
      "800/800 [==============================] - 0s 350us/step - loss: 0.0071 - acc: 1.0000\n",
      "Epoch 21/100\n",
      "800/800 [==============================] - 0s 399us/step - loss: 0.0061 - acc: 1.0000\n",
      "Epoch 22/100\n",
      "800/800 [==============================] - 0s 395us/step - loss: 0.0054 - acc: 1.0000\n",
      "Epoch 23/100\n",
      "800/800 [==============================] - 0s 416us/step - loss: 0.0047 - acc: 1.0000\n",
      "Epoch 24/100\n",
      "800/800 [==============================] - 0s 389us/step - loss: 0.0042 - acc: 1.0000\n",
      "Epoch 25/100\n",
      "800/800 [==============================] - 0s 358us/step - loss: 0.0038 - acc: 1.0000\n",
      "Epoch 26/100\n",
      "800/800 [==============================] - 0s 566us/step - loss: 0.0034 - acc: 1.0000\n",
      "Epoch 27/100\n",
      "800/800 [==============================] - 0s 470us/step - loss: 0.0030 - acc: 1.0000\n",
      "Epoch 28/100\n",
      "800/800 [==============================] - 0s 359us/step - loss: 0.0027 - acc: 1.0000\n",
      "Epoch 29/100\n",
      "800/800 [==============================] - 0s 441us/step - loss: 0.0025 - acc: 1.0000\n",
      "Epoch 30/100\n",
      "800/800 [==============================] - 0s 456us/step - loss: 0.0022 - acc: 1.0000 0s - loss: 0.0018 - acc: \n",
      "Epoch 31/100\n",
      "800/800 [==============================] - 0s 419us/step - loss: 0.0020 - acc: 1.0000\n",
      "Epoch 32/100\n",
      "800/800 [==============================] - 1s 671us/step - loss: 0.0019 - acc: 1.0000\n",
      "Epoch 33/100\n",
      "800/800 [==============================] - 1s 650us/step - loss: 0.0017 - acc: 1.0000\n",
      "Epoch 34/100\n",
      "800/800 [==============================] - 0s 481us/step - loss: 0.0016 - acc: 1.0000\n",
      "Epoch 35/100\n",
      "800/800 [==============================] - 0s 358us/step - loss: 0.0014 - acc: 1.0000\n",
      "Epoch 36/100\n",
      "800/800 [==============================] - 0s 364us/step - loss: 0.0013 - acc: 1.0000\n",
      "Epoch 37/100\n",
      "800/800 [==============================] - 0s 356us/step - loss: 0.0012 - acc: 1.0000\n",
      "Epoch 38/100\n",
      "800/800 [==============================] - 0s 410us/step - loss: 0.0011 - acc: 1.0000\n",
      "Epoch 39/100\n",
      "800/800 [==============================] - 0s 387us/step - loss: 0.0010 - acc: 1.0000\n",
      "Epoch 40/100\n",
      "800/800 [==============================] - 0s 370us/step - loss: 9.7345e-04 - acc: 1.0000\n",
      "Epoch 41/100\n",
      "800/800 [==============================] - 0s 374us/step - loss: 9.0554e-04 - acc: 1.0000\n",
      "Epoch 42/100\n",
      "800/800 [==============================] - 0s 502us/step - loss: 8.4264e-04 - acc: 1.0000 0s - loss: 9.8068e-04 - acc: 1.000 - ETA: 0s - loss: 8.7973e-04 - acc: 1\n",
      "Epoch 43/100\n",
      "800/800 [==============================] - 0s 505us/step - loss: 7.8510e-04 - acc: 1.0000\n",
      "Epoch 44/100\n",
      "800/800 [==============================] - 0s 432us/step - loss: 7.3080e-04 - acc: 1.0000 0s - loss: 7.0647e-04 - acc: \n",
      "Epoch 45/100\n",
      "800/800 [==============================] - 0s 502us/step - loss: 6.8229e-04 - acc: 1.0000\n",
      "Epoch 46/100\n",
      "800/800 [==============================] - 0s 543us/step - loss: 6.3823e-04 - acc: 1.0000\n",
      "Epoch 47/100\n",
      "800/800 [==============================] - 0s 449us/step - loss: 5.9631e-04 - acc: 1.0000\n",
      "Epoch 48/100\n",
      "800/800 [==============================] - 0s 513us/step - loss: 5.5846e-04 - acc: 1.0000\n",
      "Epoch 49/100\n",
      "800/800 [==============================] - 1s 637us/step - loss: 5.2266e-04 - acc: 1.0000\n",
      "Epoch 50/100\n",
      "800/800 [==============================] - 0s 580us/step - loss: 4.9042e-04 - acc: 1.0000\n",
      "Epoch 51/100\n",
      "800/800 [==============================] - 0s 486us/step - loss: 4.6028e-04 - acc: 1.0000\n",
      "Epoch 52/100\n",
      "800/800 [==============================] - 0s 461us/step - loss: 4.3174e-04 - acc: 1.0000\n",
      "Epoch 53/100\n",
      "800/800 [==============================] - 0s 476us/step - loss: 4.0604e-04 - acc: 1.0000\n",
      "Epoch 54/100\n",
      "800/800 [==============================] - 0s 494us/step - loss: 3.8142e-04 - acc: 1.0000\n",
      "Epoch 55/100\n",
      "800/800 [==============================] - 0s 441us/step - loss: 3.5936e-04 - acc: 1.0000\n",
      "Epoch 56/100\n",
      "800/800 [==============================] - 0s 316us/step - loss: 3.3804e-04 - acc: 1.0000\n",
      "Epoch 57/100\n",
      "800/800 [==============================] - 0s 333us/step - loss: 3.1850e-04 - acc: 1.0000\n",
      "Epoch 58/100\n",
      "800/800 [==============================] - 0s 480us/step - loss: 3.0024e-04 - acc: 1.0000\n",
      "Epoch 59/100\n",
      "800/800 [==============================] - 0s 515us/step - loss: 2.8322e-04 - acc: 1.0000\n",
      "Epoch 60/100\n",
      "800/800 [==============================] - 0s 510us/step - loss: 2.6694e-04 - acc: 1.0000\n",
      "Epoch 61/100\n",
      "800/800 [==============================] - 0s 479us/step - loss: 2.5166e-04 - acc: 1.0000\n",
      "Epoch 62/100\n",
      "800/800 [==============================] - 0s 460us/step - loss: 2.3835e-04 - acc: 1.0000\n",
      "Epoch 63/100\n",
      "800/800 [==============================] - 0s 426us/step - loss: 2.2486e-04 - acc: 1.0000\n",
      "Epoch 64/100\n",
      "800/800 [==============================] - 0s 527us/step - loss: 2.1245e-04 - acc: 1.0000\n",
      "Epoch 65/100\n",
      "800/800 [==============================] - 0s 567us/step - loss: 2.0073e-04 - acc: 1.0000\n",
      "Epoch 66/100\n",
      "800/800 [==============================] - 0s 516us/step - loss: 1.8974e-04 - acc: 1.0000\n",
      "Epoch 67/100\n",
      "800/800 [==============================] - 0s 426us/step - loss: 1.7936e-04 - acc: 1.0000\n",
      "Epoch 68/100\n",
      "800/800 [==============================] - 0s 320us/step - loss: 1.7009e-04 - acc: 1.0000\n",
      "Epoch 69/100\n",
      "800/800 [==============================] - 0s 353us/step - loss: 1.6119e-04 - acc: 1.0000\n",
      "Epoch 70/100\n",
      "800/800 [==============================] - ETA: 0s - loss: 1.5661e-04 - acc: 1.000 - 0s 456us/step - loss: 1.5234e-04 - acc: 1.0000\n",
      "Epoch 71/100\n",
      "800/800 [==============================] - 0s 312us/step - loss: 1.4445e-04 - acc: 1.0000\n",
      "Epoch 72/100\n",
      "800/800 [==============================] - 0s 359us/step - loss: 1.3702e-04 - acc: 1.0000 0s - loss: 1.2859e-04 - acc: 1.0\n",
      "Epoch 73/100\n",
      "800/800 [==============================] - 0s 349us/step - loss: 1.2973e-04 - acc: 1.0000\n",
      "Epoch 74/100\n",
      "800/800 [==============================] - 0s 447us/step - loss: 1.2307e-04 - acc: 1.0000\n",
      "Epoch 75/100\n",
      "800/800 [==============================] - 0s 423us/step - loss: 1.1664e-04 - acc: 1.0000\n",
      "Epoch 76/100\n",
      "800/800 [==============================] - 0s 348us/step - loss: 1.1074e-04 - acc: 1.0000\n",
      "Epoch 77/100\n",
      "800/800 [==============================] - 0s 342us/step - loss: 1.0498e-04 - acc: 1.0000\n",
      "Epoch 78/100\n",
      "800/800 [==============================] - 0s 333us/step - loss: 9.9580e-05 - acc: 1.0000\n",
      "Epoch 79/100\n"
     ]
    },
    {
     "name": "stdout",
     "output_type": "stream",
     "text": [
      "800/800 [==============================] - 0s 396us/step - loss: 9.4524e-05 - acc: 1.0000\n",
      "Epoch 80/100\n",
      "800/800 [==============================] - 0s 495us/step - loss: 8.9739e-05 - acc: 1.0000\n",
      "Epoch 81/100\n",
      "800/800 [==============================] - 0s 410us/step - loss: 8.5282e-05 - acc: 1.0000\n",
      "Epoch 82/100\n",
      "800/800 [==============================] - 0s 294us/step - loss: 8.1045e-05 - acc: 1.0000\n",
      "Epoch 83/100\n",
      "800/800 [==============================] - 0s 595us/step - loss: 7.7004e-05 - acc: 1.0000\n",
      "Epoch 84/100\n",
      "800/800 [==============================] - 0s 525us/step - loss: 7.3140e-05 - acc: 1.0000\n",
      "Epoch 85/100\n",
      "800/800 [==============================] - 0s 395us/step - loss: 6.9483e-05 - acc: 1.0000\n",
      "Epoch 86/100\n",
      "800/800 [==============================] - 0s 356us/step - loss: 6.6093e-05 - acc: 1.0000\n",
      "Epoch 87/100\n",
      "800/800 [==============================] - 0s 340us/step - loss: 6.2833e-05 - acc: 1.0000\n",
      "Epoch 88/100\n",
      "800/800 [==============================] - 0s 316us/step - loss: 5.9728e-05 - acc: 1.0000\n",
      "Epoch 89/100\n",
      "800/800 [==============================] - 0s 330us/step - loss: 5.6817e-05 - acc: 1.0000\n",
      "Epoch 90/100\n",
      "800/800 [==============================] - 0s 347us/step - loss: 5.4109e-05 - acc: 1.0000\n",
      "Epoch 91/100\n",
      "800/800 [==============================] - 0s 370us/step - loss: 5.1404e-05 - acc: 1.0000\n",
      "Epoch 92/100\n",
      "800/800 [==============================] - 0s 359us/step - loss: 4.8907e-05 - acc: 1.0000\n",
      "Epoch 93/100\n",
      "800/800 [==============================] - 0s 295us/step - loss: 4.6516e-05 - acc: 1.0000\n",
      "Epoch 94/100\n",
      "800/800 [==============================] - 0s 309us/step - loss: 4.4288e-05 - acc: 1.0000\n",
      "Epoch 95/100\n",
      "800/800 [==============================] - 0s 365us/step - loss: 4.2155e-05 - acc: 1.0000\n",
      "Epoch 96/100\n",
      "800/800 [==============================] - 0s 433us/step - loss: 4.0112e-05 - acc: 1.0000\n",
      "Epoch 97/100\n",
      "800/800 [==============================] - 0s 375us/step - loss: 3.8135e-05 - acc: 1.0000\n",
      "Epoch 98/100\n",
      "800/800 [==============================] - 0s 305us/step - loss: 3.6399e-05 - acc: 1.0000\n",
      "Epoch 99/100\n",
      "800/800 [==============================] - 0s 369us/step - loss: 3.4582e-05 - acc: 1.0000\n",
      "Epoch 100/100\n",
      "800/800 [==============================] - 0s 296us/step - loss: 3.2983e-05 - acc: 1.0000\n"
     ]
    },
    {
     "data": {
      "text/plain": [
       "<keras.callbacks.History at 0x1b007da0>"
      ]
     },
     "execution_count": 168,
     "metadata": {},
     "output_type": "execute_result"
    }
   ],
   "source": [
    "#Fitting the ANN to the Training set\n",
    "model.fit(X_train, y_train, batch_size = 10, nb_epoch = 100)"
   ]
  },
  {
   "cell_type": "code",
   "execution_count": 169,
   "metadata": {},
   "outputs": [],
   "source": [
    "predictions = model.predict(X_test)"
   ]
  },
  {
   "cell_type": "code",
   "execution_count": 170,
   "metadata": {
    "collapsed": true
   },
   "outputs": [],
   "source": [
    "y_pred = []\n",
    "for i in predictions:\n",
    "    if i > 0.5:\n",
    "        y_pred.append(1)\n",
    "    else:\n",
    "        y_pred.append(0)"
   ]
  },
  {
   "cell_type": "code",
   "execution_count": 171,
   "metadata": {},
   "outputs": [
    {
     "name": "stdout",
     "output_type": "stream",
     "text": [
      "Accuracy Score :  0.83\n"
     ]
    }
   ],
   "source": [
    "from sklearn.metrics import accuracy_score\n",
    "print('Accuracy Score : ',accuracy_score(y_test,y_pred))"
   ]
  },
  {
   "cell_type": "code",
   "execution_count": 172,
   "metadata": {},
   "outputs": [
    {
     "name": "stdout",
     "output_type": "stream",
     "text": [
      "Training Accuracy: 1.0000\n"
     ]
    }
   ],
   "source": [
    "loss, accuracy = model.evaluate(X_train, y_train, verbose=False)\n",
    "print(\"Training Accuracy: {:.4f}\".format(accuracy))"
   ]
  },
  {
   "cell_type": "code",
   "execution_count": 173,
   "metadata": {},
   "outputs": [
    {
     "name": "stdout",
     "output_type": "stream",
     "text": [
      "Testing Accuracy:  0.8300\n"
     ]
    }
   ],
   "source": [
    "loss, accuracy = model.evaluate(X_test, y_test, verbose=False)\n",
    "print(\"Testing Accuracy:  {:.4f}\".format(accuracy))"
   ]
  }
 ],
 "metadata": {
  "kernelspec": {
   "display_name": "Python 3",
   "language": "python",
   "name": "python3"
  },
  "language_info": {
   "codemirror_mode": {
    "name": "ipython",
    "version": 3
   },
   "file_extension": ".py",
   "mimetype": "text/x-python",
   "name": "python",
   "nbconvert_exporter": "python",
   "pygments_lexer": "ipython3",
   "version": "3.5.4"
  }
 },
 "nbformat": 4,
 "nbformat_minor": 2
}
