{
 "cells": [
  {
   "cell_type": "code",
   "execution_count": 2,
   "metadata": {},
   "outputs": [
    {
     "name": "stdout",
     "output_type": "stream",
     "text": [
      "Collecting keras\n",
      "  Downloading https://files.pythonhosted.org/packages/5e/10/aa32dad071ce52b5502266b5c659451cfd6ffcbf14e6c8c4f16c0ff5aaab/Keras-2.2.4-py2.py3-none-any.whl (312kB)\n",
      "Collecting pyyaml (from keras)\n",
      "  Downloading https://files.pythonhosted.org/packages/ad/d4/d895fb7ac1b0828151b829a32cefc8a8b58b4499570520b91af20982b880/PyYAML-3.13-cp35-cp35m-win_amd64.whl (205kB)\n",
      "Requirement already satisfied: numpy>=1.9.1 in c:\\programdata\\anaconda3\\envs\\tfdeeplearning\\lib\\site-packages (from keras)\n",
      "Collecting keras-applications>=1.0.6 (from keras)\n",
      "  Downloading https://files.pythonhosted.org/packages/3f/c4/2ff40221029f7098d58f8d7fb99b97e8100f3293f9856f0fb5834bef100b/Keras_Applications-1.0.6-py2.py3-none-any.whl (44kB)\n",
      "Requirement already satisfied: scipy>=0.14 in c:\\programdata\\anaconda3\\envs\\tfdeeplearning\\lib\\site-packages (from keras)\n",
      "Collecting keras-preprocessing>=1.0.5 (from keras)\n",
      "  Downloading https://files.pythonhosted.org/packages/fc/94/74e0fa783d3fc07e41715973435dd051ca89c550881b3454233c39c73e69/Keras_Preprocessing-1.0.5-py2.py3-none-any.whl\n",
      "Requirement already satisfied: six>=1.9.0 in c:\\programdata\\anaconda3\\envs\\tfdeeplearning\\lib\\site-packages (from keras)\n",
      "Collecting h5py (from keras)\n",
      "  Downloading https://files.pythonhosted.org/packages/d0/2c/4572e2e495341e667c89b490ad18ea71a5f9e9fafca06109a9c7db22848b/h5py-2.8.0-cp35-cp35m-win_amd64.whl (2.3MB)\n",
      "Installing collected packages: pyyaml, h5py, keras-applications, keras-preprocessing, keras\n",
      "Successfully installed h5py-2.8.0 keras-2.2.4 keras-applications-1.0.6 keras-preprocessing-1.0.5 pyyaml-3.13\n"
     ]
    },
    {
     "name": "stderr",
     "output_type": "stream",
     "text": [
      "You are using pip version 9.0.3, however version 18.1 is available.\n",
      "You should consider upgrading via the 'python -m pip install --upgrade pip' command.\n"
     ]
    }
   ],
   "source": [
    "!pip install keras"
   ]
  },
  {
   "cell_type": "code",
   "execution_count": 1,
   "metadata": {},
   "outputs": [
    {
     "name": "stderr",
     "output_type": "stream",
     "text": [
      "Using TensorFlow backend.\n"
     ]
    }
   ],
   "source": [
    "import numpy as np\n",
    "import matplotlib.pyplot as plt\n",
    "import pandas as pd\n",
    "# Importing the Keras libraries and packages\n",
    "import keras\n",
    "from keras.models import Sequential\n",
    "from keras.layers import Dense"
   ]
  },
  {
   "cell_type": "code",
   "execution_count": 15,
   "metadata": {
    "collapsed": true
   },
   "outputs": [],
   "source": [
    "# Importing the dataset\n",
    "dataset = pd.read_csv('Churn_Modelling.csv')"
   ]
  },
  {
   "cell_type": "code",
   "execution_count": 16,
   "metadata": {},
   "outputs": [
    {
     "data": {
      "text/html": [
       "<div>\n",
       "<style>\n",
       "    .dataframe thead tr:only-child th {\n",
       "        text-align: right;\n",
       "    }\n",
       "\n",
       "    .dataframe thead th {\n",
       "        text-align: left;\n",
       "    }\n",
       "\n",
       "    .dataframe tbody tr th {\n",
       "        vertical-align: top;\n",
       "    }\n",
       "</style>\n",
       "<table border=\"1\" class=\"dataframe\">\n",
       "  <thead>\n",
       "    <tr style=\"text-align: right;\">\n",
       "      <th></th>\n",
       "      <th>RowNumber</th>\n",
       "      <th>CustomerId</th>\n",
       "      <th>Surname</th>\n",
       "      <th>CreditScore</th>\n",
       "      <th>Geography</th>\n",
       "      <th>Gender</th>\n",
       "      <th>Age</th>\n",
       "      <th>Tenure</th>\n",
       "      <th>Balance</th>\n",
       "      <th>NumOfProducts</th>\n",
       "      <th>HasCrCard</th>\n",
       "      <th>IsActiveMember</th>\n",
       "      <th>EstimatedSalary</th>\n",
       "      <th>Exited</th>\n",
       "    </tr>\n",
       "  </thead>\n",
       "  <tbody>\n",
       "    <tr>\n",
       "      <th>0</th>\n",
       "      <td>1</td>\n",
       "      <td>15634602</td>\n",
       "      <td>Hargrave</td>\n",
       "      <td>619</td>\n",
       "      <td>France</td>\n",
       "      <td>Female</td>\n",
       "      <td>42</td>\n",
       "      <td>2</td>\n",
       "      <td>0.00</td>\n",
       "      <td>1</td>\n",
       "      <td>1</td>\n",
       "      <td>1</td>\n",
       "      <td>101348.88</td>\n",
       "      <td>1</td>\n",
       "    </tr>\n",
       "    <tr>\n",
       "      <th>1</th>\n",
       "      <td>2</td>\n",
       "      <td>15647311</td>\n",
       "      <td>Hill</td>\n",
       "      <td>608</td>\n",
       "      <td>Spain</td>\n",
       "      <td>Female</td>\n",
       "      <td>41</td>\n",
       "      <td>1</td>\n",
       "      <td>83807.86</td>\n",
       "      <td>1</td>\n",
       "      <td>0</td>\n",
       "      <td>1</td>\n",
       "      <td>112542.58</td>\n",
       "      <td>0</td>\n",
       "    </tr>\n",
       "    <tr>\n",
       "      <th>2</th>\n",
       "      <td>3</td>\n",
       "      <td>15619304</td>\n",
       "      <td>Onio</td>\n",
       "      <td>502</td>\n",
       "      <td>France</td>\n",
       "      <td>Female</td>\n",
       "      <td>42</td>\n",
       "      <td>8</td>\n",
       "      <td>159660.80</td>\n",
       "      <td>3</td>\n",
       "      <td>1</td>\n",
       "      <td>0</td>\n",
       "      <td>113931.57</td>\n",
       "      <td>1</td>\n",
       "    </tr>\n",
       "    <tr>\n",
       "      <th>3</th>\n",
       "      <td>4</td>\n",
       "      <td>15701354</td>\n",
       "      <td>Boni</td>\n",
       "      <td>699</td>\n",
       "      <td>France</td>\n",
       "      <td>Female</td>\n",
       "      <td>39</td>\n",
       "      <td>1</td>\n",
       "      <td>0.00</td>\n",
       "      <td>2</td>\n",
       "      <td>0</td>\n",
       "      <td>0</td>\n",
       "      <td>93826.63</td>\n",
       "      <td>0</td>\n",
       "    </tr>\n",
       "    <tr>\n",
       "      <th>4</th>\n",
       "      <td>5</td>\n",
       "      <td>15737888</td>\n",
       "      <td>Mitchell</td>\n",
       "      <td>850</td>\n",
       "      <td>Spain</td>\n",
       "      <td>Female</td>\n",
       "      <td>43</td>\n",
       "      <td>2</td>\n",
       "      <td>125510.82</td>\n",
       "      <td>1</td>\n",
       "      <td>1</td>\n",
       "      <td>1</td>\n",
       "      <td>79084.10</td>\n",
       "      <td>0</td>\n",
       "    </tr>\n",
       "  </tbody>\n",
       "</table>\n",
       "</div>"
      ],
      "text/plain": [
       "   RowNumber  CustomerId   Surname  CreditScore Geography  Gender  Age  \\\n",
       "0          1    15634602  Hargrave          619    France  Female   42   \n",
       "1          2    15647311      Hill          608     Spain  Female   41   \n",
       "2          3    15619304      Onio          502    France  Female   42   \n",
       "3          4    15701354      Boni          699    France  Female   39   \n",
       "4          5    15737888  Mitchell          850     Spain  Female   43   \n",
       "\n",
       "   Tenure    Balance  NumOfProducts  HasCrCard  IsActiveMember  \\\n",
       "0       2       0.00              1          1               1   \n",
       "1       1   83807.86              1          0               1   \n",
       "2       8  159660.80              3          1               0   \n",
       "3       1       0.00              2          0               0   \n",
       "4       2  125510.82              1          1               1   \n",
       "\n",
       "   EstimatedSalary  Exited  \n",
       "0        101348.88       1  \n",
       "1        112542.58       0  \n",
       "2        113931.57       1  \n",
       "3         93826.63       0  \n",
       "4         79084.10       0  "
      ]
     },
     "execution_count": 16,
     "metadata": {},
     "output_type": "execute_result"
    }
   ],
   "source": [
    "dataset.head()"
   ]
  },
  {
   "cell_type": "code",
   "execution_count": 17,
   "metadata": {
    "collapsed": true
   },
   "outputs": [],
   "source": [
    "#features\n",
    "X = dataset.drop(['RowNumber','CustomerId','Surname','Exited'],axis=1)\n",
    "#labels\n",
    "Y = dataset['Exited']"
   ]
  },
  {
   "cell_type": "code",
   "execution_count": 18,
   "metadata": {},
   "outputs": [
    {
     "name": "stdout",
     "output_type": "stream",
     "text": [
      "<class 'pandas.core.frame.DataFrame'>\n",
      "RangeIndex: 10000 entries, 0 to 9999\n",
      "Data columns (total 10 columns):\n",
      "CreditScore        10000 non-null int64\n",
      "Geography          10000 non-null object\n",
      "Gender             10000 non-null object\n",
      "Age                10000 non-null int64\n",
      "Tenure             10000 non-null int64\n",
      "Balance            10000 non-null float64\n",
      "NumOfProducts      10000 non-null int64\n",
      "HasCrCard          10000 non-null int64\n",
      "IsActiveMember     10000 non-null int64\n",
      "EstimatedSalary    10000 non-null float64\n",
      "dtypes: float64(2), int64(6), object(2)\n",
      "memory usage: 781.3+ KB\n"
     ]
    }
   ],
   "source": [
    "X.info()"
   ]
  },
  {
   "cell_type": "code",
   "execution_count": 19,
   "metadata": {},
   "outputs": [
    {
     "data": {
      "text/plain": [
       "array(['France', 'Spain', 'Germany'], dtype=object)"
      ]
     },
     "execution_count": 19,
     "metadata": {},
     "output_type": "execute_result"
    }
   ],
   "source": [
    "X['Geography'].unique()"
   ]
  },
  {
   "cell_type": "code",
   "execution_count": 20,
   "metadata": {
    "collapsed": true
   },
   "outputs": [],
   "source": [
    "# Encoding categorical data\n",
    "from sklearn.preprocessing import LabelEncoder, OneHotEncoder\n",
    "labelencoder_X_1 = LabelEncoder()\n",
    "X['Gender'] = labelencoder_X_1.fit_transform(X['Gender'])"
   ]
  },
  {
   "cell_type": "code",
   "execution_count": 21,
   "metadata": {},
   "outputs": [
    {
     "data": {
      "text/html": [
       "<div>\n",
       "<style>\n",
       "    .dataframe thead tr:only-child th {\n",
       "        text-align: right;\n",
       "    }\n",
       "\n",
       "    .dataframe thead th {\n",
       "        text-align: left;\n",
       "    }\n",
       "\n",
       "    .dataframe tbody tr th {\n",
       "        vertical-align: top;\n",
       "    }\n",
       "</style>\n",
       "<table border=\"1\" class=\"dataframe\">\n",
       "  <thead>\n",
       "    <tr style=\"text-align: right;\">\n",
       "      <th></th>\n",
       "      <th>CreditScore</th>\n",
       "      <th>Geography</th>\n",
       "      <th>Gender</th>\n",
       "      <th>Age</th>\n",
       "      <th>Tenure</th>\n",
       "      <th>Balance</th>\n",
       "      <th>NumOfProducts</th>\n",
       "      <th>HasCrCard</th>\n",
       "      <th>IsActiveMember</th>\n",
       "      <th>EstimatedSalary</th>\n",
       "    </tr>\n",
       "  </thead>\n",
       "  <tbody>\n",
       "    <tr>\n",
       "      <th>0</th>\n",
       "      <td>619</td>\n",
       "      <td>France</td>\n",
       "      <td>0</td>\n",
       "      <td>42</td>\n",
       "      <td>2</td>\n",
       "      <td>0.00</td>\n",
       "      <td>1</td>\n",
       "      <td>1</td>\n",
       "      <td>1</td>\n",
       "      <td>101348.88</td>\n",
       "    </tr>\n",
       "    <tr>\n",
       "      <th>1</th>\n",
       "      <td>608</td>\n",
       "      <td>Spain</td>\n",
       "      <td>0</td>\n",
       "      <td>41</td>\n",
       "      <td>1</td>\n",
       "      <td>83807.86</td>\n",
       "      <td>1</td>\n",
       "      <td>0</td>\n",
       "      <td>1</td>\n",
       "      <td>112542.58</td>\n",
       "    </tr>\n",
       "    <tr>\n",
       "      <th>2</th>\n",
       "      <td>502</td>\n",
       "      <td>France</td>\n",
       "      <td>0</td>\n",
       "      <td>42</td>\n",
       "      <td>8</td>\n",
       "      <td>159660.80</td>\n",
       "      <td>3</td>\n",
       "      <td>1</td>\n",
       "      <td>0</td>\n",
       "      <td>113931.57</td>\n",
       "    </tr>\n",
       "    <tr>\n",
       "      <th>3</th>\n",
       "      <td>699</td>\n",
       "      <td>France</td>\n",
       "      <td>0</td>\n",
       "      <td>39</td>\n",
       "      <td>1</td>\n",
       "      <td>0.00</td>\n",
       "      <td>2</td>\n",
       "      <td>0</td>\n",
       "      <td>0</td>\n",
       "      <td>93826.63</td>\n",
       "    </tr>\n",
       "    <tr>\n",
       "      <th>4</th>\n",
       "      <td>850</td>\n",
       "      <td>Spain</td>\n",
       "      <td>0</td>\n",
       "      <td>43</td>\n",
       "      <td>2</td>\n",
       "      <td>125510.82</td>\n",
       "      <td>1</td>\n",
       "      <td>1</td>\n",
       "      <td>1</td>\n",
       "      <td>79084.10</td>\n",
       "    </tr>\n",
       "  </tbody>\n",
       "</table>\n",
       "</div>"
      ],
      "text/plain": [
       "   CreditScore Geography  Gender  Age  Tenure    Balance  NumOfProducts  \\\n",
       "0          619    France       0   42       2       0.00              1   \n",
       "1          608     Spain       0   41       1   83807.86              1   \n",
       "2          502    France       0   42       8  159660.80              3   \n",
       "3          699    France       0   39       1       0.00              2   \n",
       "4          850     Spain       0   43       2  125510.82              1   \n",
       "\n",
       "   HasCrCard  IsActiveMember  EstimatedSalary  \n",
       "0          1               1        101348.88  \n",
       "1          0               1        112542.58  \n",
       "2          1               0        113931.57  \n",
       "3          0               0         93826.63  \n",
       "4          1               1         79084.10  "
      ]
     },
     "execution_count": 21,
     "metadata": {},
     "output_type": "execute_result"
    }
   ],
   "source": [
    "X.head()"
   ]
  },
  {
   "cell_type": "code",
   "execution_count": 22,
   "metadata": {},
   "outputs": [],
   "source": [
    "X = pd.concat([X,pd.get_dummies(X['Geography'],prefix=('Georaphy'))],axis=1)\n"
   ]
  },
  {
   "cell_type": "code",
   "execution_count": 23,
   "metadata": {},
   "outputs": [],
   "source": [
    "X = X.drop('Geography',axis=1)"
   ]
  },
  {
   "cell_type": "code",
   "execution_count": 24,
   "metadata": {},
   "outputs": [
    {
     "data": {
      "text/html": [
       "<div>\n",
       "<style>\n",
       "    .dataframe thead tr:only-child th {\n",
       "        text-align: right;\n",
       "    }\n",
       "\n",
       "    .dataframe thead th {\n",
       "        text-align: left;\n",
       "    }\n",
       "\n",
       "    .dataframe tbody tr th {\n",
       "        vertical-align: top;\n",
       "    }\n",
       "</style>\n",
       "<table border=\"1\" class=\"dataframe\">\n",
       "  <thead>\n",
       "    <tr style=\"text-align: right;\">\n",
       "      <th></th>\n",
       "      <th>CreditScore</th>\n",
       "      <th>Gender</th>\n",
       "      <th>Age</th>\n",
       "      <th>Tenure</th>\n",
       "      <th>Balance</th>\n",
       "      <th>NumOfProducts</th>\n",
       "      <th>HasCrCard</th>\n",
       "      <th>IsActiveMember</th>\n",
       "      <th>EstimatedSalary</th>\n",
       "      <th>Georaphy_France</th>\n",
       "      <th>Georaphy_Germany</th>\n",
       "      <th>Georaphy_Spain</th>\n",
       "    </tr>\n",
       "  </thead>\n",
       "  <tbody>\n",
       "    <tr>\n",
       "      <th>0</th>\n",
       "      <td>619</td>\n",
       "      <td>0</td>\n",
       "      <td>42</td>\n",
       "      <td>2</td>\n",
       "      <td>0.00</td>\n",
       "      <td>1</td>\n",
       "      <td>1</td>\n",
       "      <td>1</td>\n",
       "      <td>101348.88</td>\n",
       "      <td>1</td>\n",
       "      <td>0</td>\n",
       "      <td>0</td>\n",
       "    </tr>\n",
       "    <tr>\n",
       "      <th>1</th>\n",
       "      <td>608</td>\n",
       "      <td>0</td>\n",
       "      <td>41</td>\n",
       "      <td>1</td>\n",
       "      <td>83807.86</td>\n",
       "      <td>1</td>\n",
       "      <td>0</td>\n",
       "      <td>1</td>\n",
       "      <td>112542.58</td>\n",
       "      <td>0</td>\n",
       "      <td>0</td>\n",
       "      <td>1</td>\n",
       "    </tr>\n",
       "    <tr>\n",
       "      <th>2</th>\n",
       "      <td>502</td>\n",
       "      <td>0</td>\n",
       "      <td>42</td>\n",
       "      <td>8</td>\n",
       "      <td>159660.80</td>\n",
       "      <td>3</td>\n",
       "      <td>1</td>\n",
       "      <td>0</td>\n",
       "      <td>113931.57</td>\n",
       "      <td>1</td>\n",
       "      <td>0</td>\n",
       "      <td>0</td>\n",
       "    </tr>\n",
       "    <tr>\n",
       "      <th>3</th>\n",
       "      <td>699</td>\n",
       "      <td>0</td>\n",
       "      <td>39</td>\n",
       "      <td>1</td>\n",
       "      <td>0.00</td>\n",
       "      <td>2</td>\n",
       "      <td>0</td>\n",
       "      <td>0</td>\n",
       "      <td>93826.63</td>\n",
       "      <td>1</td>\n",
       "      <td>0</td>\n",
       "      <td>0</td>\n",
       "    </tr>\n",
       "    <tr>\n",
       "      <th>4</th>\n",
       "      <td>850</td>\n",
       "      <td>0</td>\n",
       "      <td>43</td>\n",
       "      <td>2</td>\n",
       "      <td>125510.82</td>\n",
       "      <td>1</td>\n",
       "      <td>1</td>\n",
       "      <td>1</td>\n",
       "      <td>79084.10</td>\n",
       "      <td>0</td>\n",
       "      <td>0</td>\n",
       "      <td>1</td>\n",
       "    </tr>\n",
       "  </tbody>\n",
       "</table>\n",
       "</div>"
      ],
      "text/plain": [
       "   CreditScore  Gender  Age  Tenure    Balance  NumOfProducts  HasCrCard  \\\n",
       "0          619       0   42       2       0.00              1          1   \n",
       "1          608       0   41       1   83807.86              1          0   \n",
       "2          502       0   42       8  159660.80              3          1   \n",
       "3          699       0   39       1       0.00              2          0   \n",
       "4          850       0   43       2  125510.82              1          1   \n",
       "\n",
       "   IsActiveMember  EstimatedSalary  Georaphy_France  Georaphy_Germany  \\\n",
       "0               1        101348.88                1                 0   \n",
       "1               1        112542.58                0                 0   \n",
       "2               0        113931.57                1                 0   \n",
       "3               0         93826.63                1                 0   \n",
       "4               1         79084.10                0                 0   \n",
       "\n",
       "   Georaphy_Spain  \n",
       "0               0  \n",
       "1               1  \n",
       "2               0  \n",
       "3               0  \n",
       "4               1  "
      ]
     },
     "execution_count": 24,
     "metadata": {},
     "output_type": "execute_result"
    }
   ],
   "source": [
    "X.head()"
   ]
  },
  {
   "cell_type": "code",
   "execution_count": 25,
   "metadata": {},
   "outputs": [],
   "source": [
    "# Splitting the dataset into the Training set and Test set\n",
    "from sklearn.model_selection import train_test_split\n",
    "X_train, X_test, y_train, y_test = train_test_split(X, Y, test_size = 0.2, random_state = 0)\n"
   ]
  },
  {
   "cell_type": "code",
   "execution_count": 26,
   "metadata": {},
   "outputs": [
    {
     "name": "stdout",
     "output_type": "stream",
     "text": [
      "(8000, 12)\n",
      "(8000,)\n",
      "(2000, 12)\n",
      "(2000,)\n"
     ]
    }
   ],
   "source": [
    "print(X_train.shape)\n",
    "print(y_train.shape)\n",
    "print(X_test.shape)\n",
    "print(y_test.shape)"
   ]
  },
  {
   "cell_type": "code",
   "execution_count": 27,
   "metadata": {
    "collapsed": true
   },
   "outputs": [],
   "source": [
    "# Feature Scaling\n",
    "from sklearn.preprocessing import StandardScaler\n",
    "sc = StandardScaler()\n",
    "X_train = sc.fit_transform(X_train)\n",
    "X_test = sc.transform(X_test)"
   ]
  },
  {
   "cell_type": "code",
   "execution_count": 30,
   "metadata": {},
   "outputs": [
    {
     "name": "stderr",
     "output_type": "stream",
     "text": [
      "C:\\ProgramData\\Anaconda3\\envs\\tfdeeplearning\\lib\\site-packages\\ipykernel_launcher.py:18: UserWarning: The `nb_epoch` argument in `fit` has been renamed `epochs`.\n"
     ]
    },
    {
     "name": "stdout",
     "output_type": "stream",
     "text": [
      "Epoch 1/100\n",
      "8000/8000 [==============================] - 3s 330us/step - loss: 0.4878 - acc: 0.7956\n",
      "Epoch 2/100\n",
      "8000/8000 [==============================] - 2s 265us/step - loss: 0.4277 - acc: 0.7960\n",
      "Epoch 3/100\n",
      "8000/8000 [==============================] - 2s 221us/step - loss: 0.4222 - acc: 0.8095\n",
      "Epoch 4/100\n",
      "8000/8000 [==============================] - 2s 231us/step - loss: 0.4171 - acc: 0.8252\n",
      "Epoch 5/100\n",
      "8000/8000 [==============================] - 2s 273us/step - loss: 0.4125 - acc: 0.8316\n",
      "Epoch 6/100\n",
      "8000/8000 [==============================] - 2s 254us/step - loss: 0.4093 - acc: 0.8317\n",
      "Epoch 7/100\n",
      "8000/8000 [==============================] - 2s 215us/step - loss: 0.4064 - acc: 0.8341\n",
      "Epoch 8/100\n",
      "8000/8000 [==============================] - 2s 271us/step - loss: 0.4041 - acc: 0.8351\n",
      "Epoch 9/100\n",
      "8000/8000 [==============================] - 2s 217us/step - loss: 0.4025 - acc: 0.8334\n",
      "Epoch 10/100\n",
      "8000/8000 [==============================] - 2s 228us/step - loss: 0.4012 - acc: 0.8370\n",
      "Epoch 11/100\n",
      "8000/8000 [==============================] - 2s 262us/step - loss: 0.3995 - acc: 0.8350\n",
      "Epoch 12/100\n",
      "8000/8000 [==============================] - 2s 221us/step - loss: 0.3996 - acc: 0.8360\n",
      "Epoch 13/100\n",
      "8000/8000 [==============================] - 2s 259us/step - loss: 0.3981 - acc: 0.8356\n",
      "Epoch 14/100\n",
      "8000/8000 [==============================] - 2s 307us/step - loss: 0.3979 - acc: 0.8351\n",
      "Epoch 15/100\n",
      "8000/8000 [==============================] - 2s 214us/step - loss: 0.3973 - acc: 0.8347\n",
      "Epoch 16/100\n",
      "8000/8000 [==============================] - 2s 237us/step - loss: 0.3973 - acc: 0.8342\n",
      "Epoch 17/100\n",
      "8000/8000 [==============================] - 2s 276us/step - loss: 0.3968 - acc: 0.8340\n",
      "Epoch 18/100\n",
      "8000/8000 [==============================] - 2s 207us/step - loss: 0.3965 - acc: 0.8351\n",
      "Epoch 19/100\n",
      "8000/8000 [==============================] - 2s 221us/step - loss: 0.3963 - acc: 0.8364\n",
      "Epoch 20/100\n",
      "8000/8000 [==============================] - 2s 286us/step - loss: 0.3960 - acc: 0.8360\n",
      "Epoch 21/100\n",
      "8000/8000 [==============================] - 2s 243us/step - loss: 0.3957 - acc: 0.8370\n",
      "Epoch 22/100\n",
      "8000/8000 [==============================] - 2s 247us/step - loss: 0.3958 - acc: 0.8364\n",
      "Epoch 23/100\n",
      "8000/8000 [==============================] - 2s 225us/step - loss: 0.3957 - acc: 0.8347\n",
      "Epoch 24/100\n",
      "8000/8000 [==============================] - 2s 258us/step - loss: 0.3952 - acc: 0.8356\n",
      "Epoch 25/100\n",
      "8000/8000 [==============================] - 2s 267us/step - loss: 0.3950 - acc: 0.8345\n",
      "Epoch 26/100\n",
      "8000/8000 [==============================] - 2s 236us/step - loss: 0.3949 - acc: 0.8355\n",
      "Epoch 27/100\n",
      "8000/8000 [==============================] - 2s 274us/step - loss: 0.3946 - acc: 0.8365\n",
      "Epoch 28/100\n",
      "8000/8000 [==============================] - 2s 258us/step - loss: 0.3943 - acc: 0.8355\n",
      "Epoch 29/100\n",
      "8000/8000 [==============================] - 2s 263us/step - loss: 0.3946 - acc: 0.8352\n",
      "Epoch 30/100\n",
      "8000/8000 [==============================] - 2s 245us/step - loss: 0.3943 - acc: 0.8365\n",
      "Epoch 31/100\n",
      "8000/8000 [==============================] - 2s 243us/step - loss: 0.3945 - acc: 0.8354\n",
      "Epoch 32/100\n",
      "8000/8000 [==============================] - 2s 237us/step - loss: 0.3939 - acc: 0.8370\n",
      "Epoch 33/100\n",
      "8000/8000 [==============================] - 2s 268us/step - loss: 0.3942 - acc: 0.8365\n",
      "Epoch 34/100\n",
      "8000/8000 [==============================] - 2s 241us/step - loss: 0.3937 - acc: 0.8355\n",
      "Epoch 35/100\n",
      "8000/8000 [==============================] - 2s 218us/step - loss: 0.3942 - acc: 0.8364\n",
      "Epoch 36/100\n",
      "8000/8000 [==============================] - 2s 268us/step - loss: 0.3938 - acc: 0.8365\n",
      "Epoch 37/100\n",
      "8000/8000 [==============================] - 2s 237us/step - loss: 0.3934 - acc: 0.8367\n",
      "Epoch 38/100\n",
      "8000/8000 [==============================] - 3s 341us/step - loss: 0.3936 - acc: 0.8374\n",
      "Epoch 39/100\n",
      "8000/8000 [==============================] - 2s 290us/step - loss: 0.3939 - acc: 0.8366\n",
      "Epoch 40/100\n",
      "8000/8000 [==============================] - 2s 233us/step - loss: 0.3936 - acc: 0.8359\n",
      "Epoch 41/100\n",
      "8000/8000 [==============================] - 2s 249us/step - loss: 0.3934 - acc: 0.8377\n",
      "Epoch 42/100\n",
      "8000/8000 [==============================] - 2s 255us/step - loss: 0.3932 - acc: 0.8391\n",
      "Epoch 43/100\n",
      "8000/8000 [==============================] - 3s 318us/step - loss: 0.3930 - acc: 0.8380\n",
      "Epoch 44/100\n",
      "8000/8000 [==============================] - 2s 282us/step - loss: 0.3933 - acc: 0.8386\n",
      "Epoch 45/100\n",
      "8000/8000 [==============================] - 2s 217us/step - loss: 0.3931 - acc: 0.8365\n",
      "Epoch 46/100\n",
      "8000/8000 [==============================] - 2s 243us/step - loss: 0.3934 - acc: 0.8370\n",
      "Epoch 47/100\n",
      "8000/8000 [==============================] - 2s 280us/step - loss: 0.3932 - acc: 0.8360\n",
      "Epoch 48/100\n",
      "8000/8000 [==============================] - 2s 232us/step - loss: 0.3926 - acc: 0.8389\n",
      "Epoch 49/100\n",
      "8000/8000 [==============================] - 2s 248us/step - loss: 0.3932 - acc: 0.8372\n",
      "Epoch 50/100\n",
      "8000/8000 [==============================] - 2s 290us/step - loss: 0.3927 - acc: 0.8377\n",
      "Epoch 51/100\n",
      "8000/8000 [==============================] - 2s 240us/step - loss: 0.3929 - acc: 0.8384\n",
      "Epoch 52/100\n",
      "8000/8000 [==============================] - 2s 241us/step - loss: 0.3930 - acc: 0.8366\n",
      "Epoch 53/100\n",
      "8000/8000 [==============================] - 2s 261us/step - loss: 0.3931 - acc: 0.8386\n",
      "Epoch 54/100\n",
      "8000/8000 [==============================] - 2s 266us/step - loss: 0.3925 - acc: 0.8376\n",
      "Epoch 55/100\n",
      "8000/8000 [==============================] - 2s 230us/step - loss: 0.3925 - acc: 0.8391\n",
      "Epoch 56/100\n",
      "8000/8000 [==============================] - 2s 272us/step - loss: 0.3926 - acc: 0.8391\n",
      "Epoch 57/100\n",
      "8000/8000 [==============================] - 2s 237us/step - loss: 0.3927 - acc: 0.8386\n",
      "Epoch 58/100\n",
      "8000/8000 [==============================] - 2s 225us/step - loss: 0.3926 - acc: 0.8372\n",
      "Epoch 59/100\n",
      "8000/8000 [==============================] - 2s 232us/step - loss: 0.3925 - acc: 0.8390\n",
      "Epoch 60/100\n",
      "8000/8000 [==============================] - 2s 275us/step - loss: 0.3924 - acc: 0.8389\n",
      "Epoch 61/100\n",
      "8000/8000 [==============================] - 2s 274us/step - loss: 0.3928 - acc: 0.8396\n",
      "Epoch 62/100\n",
      "8000/8000 [==============================] - 2s 222us/step - loss: 0.3917 - acc: 0.8387\n",
      "Epoch 63/100\n",
      "8000/8000 [==============================] - 2s 253us/step - loss: 0.3918 - acc: 0.8412\n",
      "Epoch 64/100\n",
      "8000/8000 [==============================] - 2s 238us/step - loss: 0.3917 - acc: 0.8392\n",
      "Epoch 65/100\n",
      "8000/8000 [==============================] - 2s 212us/step - loss: 0.3919 - acc: 0.8374\n",
      "Epoch 66/100\n",
      "8000/8000 [==============================] - 2s 280us/step - loss: 0.3913 - acc: 0.8384\n",
      "Epoch 67/100\n",
      "8000/8000 [==============================] - 2s 223us/step - loss: 0.3914 - acc: 0.8382\n",
      "Epoch 68/100\n",
      "8000/8000 [==============================] - 2s 239us/step - loss: 0.3908 - acc: 0.8404\n",
      "Epoch 69/100\n",
      "8000/8000 [==============================] - 2s 280us/step - loss: 0.3887 - acc: 0.8415\n",
      "Epoch 70/100\n",
      "8000/8000 [==============================] - 2s 223us/step - loss: 0.3849 - acc: 0.8410\n",
      "Epoch 71/100\n",
      "8000/8000 [==============================] - 2s 232us/step - loss: 0.3758 - acc: 0.8484\n",
      "Epoch 72/100\n",
      "8000/8000 [==============================] - 2s 308us/step - loss: 0.3669 - acc: 0.8521\n",
      "Epoch 73/100\n",
      "8000/8000 [==============================] - 2s 220us/step - loss: 0.3606 - acc: 0.8552\n",
      "Epoch 74/100\n",
      "8000/8000 [==============================] - 2s 246us/step - loss: 0.3573 - acc: 0.8567\n",
      "Epoch 75/100\n",
      "8000/8000 [==============================] - 2s 278us/step - loss: 0.3553 - acc: 0.8586\n",
      "Epoch 76/100\n",
      "8000/8000 [==============================] - 2s 241us/step - loss: 0.3542 - acc: 0.8574\n",
      "Epoch 77/100\n",
      "8000/8000 [==============================] - 2s 246us/step - loss: 0.3538 - acc: 0.8579\n",
      "Epoch 78/100\n",
      "8000/8000 [==============================] - 2s 282us/step - loss: 0.3532 - acc: 0.8567\n",
      "Epoch 79/100\n",
      "8000/8000 [==============================] - 2s 224us/step - loss: 0.3533 - acc: 0.8582\n",
      "Epoch 80/100\n",
      "8000/8000 [==============================] - 2s 233us/step - loss: 0.3526 - acc: 0.8564\n",
      "Epoch 81/100\n",
      "8000/8000 [==============================] - 2s 288us/step - loss: 0.3523 - acc: 0.8572\n",
      "Epoch 82/100\n"
     ]
    },
    {
     "name": "stdout",
     "output_type": "stream",
     "text": [
      "8000/8000 [==============================] - 2s 239us/step - loss: 0.3516 - acc: 0.8576\n",
      "Epoch 83/100\n",
      "8000/8000 [==============================] - 2s 227us/step - loss: 0.3518 - acc: 0.8561\n",
      "Epoch 84/100\n",
      "8000/8000 [==============================] - 2s 264us/step - loss: 0.3519 - acc: 0.8594\n",
      "Epoch 85/100\n",
      "8000/8000 [==============================] - 2s 241us/step - loss: 0.3518 - acc: 0.8576\n",
      "Epoch 86/100\n",
      "8000/8000 [==============================] - 2s 223us/step - loss: 0.3512 - acc: 0.8585\n",
      "Epoch 87/100\n",
      "8000/8000 [==============================] - 2s 263us/step - loss: 0.3513 - acc: 0.8604\n",
      "Epoch 88/100\n",
      "8000/8000 [==============================] - 2s 217us/step - loss: 0.3510 - acc: 0.8579\n",
      "Epoch 89/100\n",
      "8000/8000 [==============================] - 2s 233us/step - loss: 0.3513 - acc: 0.8576\n",
      "Epoch 90/100\n",
      "8000/8000 [==============================] - 2s 267us/step - loss: 0.3509 - acc: 0.8582\n",
      "Epoch 91/100\n",
      "8000/8000 [==============================] - 2s 241us/step - loss: 0.3502 - acc: 0.8596\n",
      "Epoch 92/100\n",
      "8000/8000 [==============================] - 2s 237us/step - loss: 0.3501 - acc: 0.8594\n",
      "Epoch 93/100\n",
      "8000/8000 [==============================] - 2s 253us/step - loss: 0.3503 - acc: 0.8589\n",
      "Epoch 94/100\n",
      "8000/8000 [==============================] - 2s 240us/step - loss: 0.3500 - acc: 0.8579\n",
      "Epoch 95/100\n",
      "8000/8000 [==============================] - 2s 250us/step - loss: 0.3499 - acc: 0.8566\n",
      "Epoch 96/100\n",
      "8000/8000 [==============================] - 2s 243us/step - loss: 0.3492 - acc: 0.8590\n",
      "Epoch 97/100\n",
      "8000/8000 [==============================] - 3s 349us/step - loss: 0.3491 - acc: 0.8587\n",
      "Epoch 98/100\n",
      "8000/8000 [==============================] - 2s 299us/step - loss: 0.3496 - acc: 0.8597\n",
      "Epoch 99/100\n",
      "8000/8000 [==============================] - 2s 281us/step - loss: 0.3491 - acc: 0.8577\n",
      "Epoch 100/100\n",
      "8000/8000 [==============================] - 2s 214us/step - loss: 0.3484 - acc: 0.8577\n"
     ]
    },
    {
     "data": {
      "text/plain": [
       "<keras.callbacks.History at 0xc6b6be0>"
      ]
     },
     "execution_count": 30,
     "metadata": {},
     "output_type": "execute_result"
    }
   ],
   "source": [
    "# Part 2 - Now let's make the ANN!\n",
    "# Initialising the ANN\n",
    "classifier = Sequential()\n",
    "\n",
    "# Adding the input layer and the first hidden layer\n",
    "classifier.add(Dense(activation=\"relu\", input_dim=12, units=6, kernel_initializer=\"uniform\"))\n",
    "\n",
    "# Adding the second hidden layer\n",
    "classifier.add(Dense(activation=\"relu\", units=6, kernel_initializer=\"uniform\"))\n",
    "\n",
    "# Adding the output layer\n",
    "classifier.add(Dense(activation=\"sigmoid\", units=1, kernel_initializer=\"uniform\"))\n",
    "\n",
    "# Compiling the ANN\n",
    "classifier.compile(optimizer = 'adam', loss = 'binary_crossentropy', metrics = ['accuracy'])\n",
    "\n",
    "# Fitting the ANN to the Training set\n",
    "classifier.fit(X_train, y_train, batch_size = 10, nb_epoch = 100)"
   ]
  },
  {
   "cell_type": "code",
   "execution_count": 31,
   "metadata": {},
   "outputs": [
    {
     "data": {
      "text/plain": [
       "array([[ 0.24218398],\n",
       "       [ 0.3364177 ],\n",
       "       [ 0.1053662 ],\n",
       "       ..., \n",
       "       [ 0.19964315],\n",
       "       [ 0.15621217],\n",
       "       [ 0.22836268]], dtype=float32)"
      ]
     },
     "execution_count": 31,
     "metadata": {},
     "output_type": "execute_result"
    }
   ],
   "source": [
    "# Part 3 - Making the predictions and evaluating the model\n",
    "\n",
    "# Predicting the Test set results\n",
    "y_pred = classifier.predict(X_test)\n",
    "y_pred "
   ]
  },
  {
   "cell_type": "code",
   "execution_count": 42,
   "metadata": {
    "collapsed": true
   },
   "outputs": [],
   "source": [
    "pred = y_pred > 0.5"
   ]
  },
  {
   "cell_type": "code",
   "execution_count": 44,
   "metadata": {},
   "outputs": [
    {
     "data": {
      "text/plain": [
       "array([[False],\n",
       "       [False],\n",
       "       [False],\n",
       "       ..., \n",
       "       [False],\n",
       "       [False],\n",
       "       [False]], dtype=bool)"
      ]
     },
     "execution_count": 44,
     "metadata": {},
     "output_type": "execute_result"
    }
   ],
   "source": [
    "pred"
   ]
  },
  {
   "cell_type": "code",
   "execution_count": 33,
   "metadata": {},
   "outputs": [],
   "source": [
    "yhat = []\n",
    "for i in y_pred:\n",
    "    if i > 0.5:\n",
    "        yhat.append(1)\n",
    "    else:\n",
    "        yhat.append(0)"
   ]
  },
  {
   "cell_type": "code",
   "execution_count": 38,
   "metadata": {},
   "outputs": [
    {
     "data": {
      "text/plain": [
       "<matplotlib.axes._subplots.AxesSubplot at 0xe885390>"
      ]
     },
     "execution_count": 38,
     "metadata": {},
     "output_type": "execute_result"
    },
    {
     "data": {
      "image/png": "[encoded data removed]",
      "text/plain": [
       "<matplotlib.figure.Figure at 0xede69b0>"
      ]
     },
     "metadata": {},
     "output_type": "display_data"
    }
   ],
   "source": [
    "import scikitplot\n",
    "%matplotlib inline\n",
    "scikitplot.metrics.plot_confusion_matrix(y_test,yhat)\n"
   ]
  },
  {
   "cell_type": "code",
   "execution_count": 41,
   "metadata": {},
   "outputs": [
    {
     "name": "stdout",
     "output_type": "stream",
     "text": [
      "Confusion Matrix \n",
      "\n",
      "[[1505   90]\n",
      " [ 204  201]]\n",
      "Accuracy :  0.853\n"
     ]
    }
   ],
   "source": [
    "#Making the Confusion Matrix\n",
    "from sklearn.metrics import confusion_matrix,accuracy_score\n",
    "print('Confusion Matrix \\n')\n",
    "print(confusion_matrix(y_test, yhat))\n",
    "print('Accuracy : ',accuracy_score(y_test,yhat))"
   ]
  }
 ],
 "metadata": {
  "kernelspec": {
   "display_name": "Python 3",
   "language": "python",
   "name": "python3"
  },
  "language_info": {
   "codemirror_mode": {
    "name": "ipython",
    "version": 3
   },
   "file_extension": ".py",
   "mimetype": "text/x-python",
   "name": "python",
   "nbconvert_exporter": "python",
   "pygments_lexer": "ipython3",
   "version": "3.5.4"
  }
 },
 "nbformat": 4,
 "nbformat_minor": 2
}
